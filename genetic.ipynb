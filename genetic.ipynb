{
 "cells": [
  {
   "cell_type": "code",
   "execution_count": 1,
   "id": "45fab08a",
   "metadata": {},
   "outputs": [],
   "source": [
    "import numpy as np\n",
    "import pandas as pd\n",
    "import random \n",
    "from scipy import stats\n",
    "import matplotlib.pyplot as plt\n",
    "from itertools import islice\n",
    "import plotly.express as px\n",
    "import matplotlib.pyplot as plt\n",
    "from itertools import compress\n",
    "import math"
   ]
  },
  {
   "cell_type": "code",
   "execution_count": 2,
   "id": "33899fd3",
   "metadata": {},
   "outputs": [],
   "source": [
    "# parameters\n",
    "LWH = ['L','W','H']"
   ]
  },
  {
   "cell_type": "code",
   "execution_count": 238,
   "id": "1eb35a90",
   "metadata": {},
   "outputs": [],
   "source": [
    "# helper functions\n",
    "\n",
    "# chunks a list into a list of lists of specified size\n",
    "def chunk(it, size):\n",
    "    it = iter(it)\n",
    "    return iter(lambda: tuple(islice(it, size)), ())\n",
    "\n",
    "# repeater n(for plotting bins)\n",
    "def repeater(x,n,droplast=True):\n",
    "    if droplast:\n",
    "        x = x[:-1]\n",
    "        n = n[:-1]      \n",
    "    return [ele for i, ele in enumerate(x) for j in range(n[i])]\n",
    "\n",
    "# create random values \n",
    "def randim(dimrange, n, upperlimit=False, dist='uniform'):    \n",
    "    limit = math.inf  \n",
    "    if dist=='uniform':\n",
    "        d = np.random.randint(dimrange[0], dimrange[1], n)    \n",
    "    if upperlimit:\n",
    "        d = np.append(d, limit)        \n",
    "    return d\n",
    "\n",
    "# add \"infinite\" bin to catch cases larger than largest bin\n",
    "def add_infbin(bins, Vflag=False):\n",
    "    infbin = pd.DataFrame(dict(zip(LWH,[math.inf]*3)), index=[0])\n",
    "    if Vflag:\n",
    "        infbin['V'] = math.inf\n",
    "    return pd.concat([bins, infbin], ignore_index=True)"
   ]
  },
  {
   "cell_type": "code",
   "execution_count": 230,
   "id": "2e770aed",
   "metadata": {},
   "outputs": [],
   "source": [
    "# user-defined probability functions\n",
    "\n",
    "# shrink probability function\n",
    "def shrinkp(u):\n",
    "    return (1-u)**2\n",
    "\n",
    "# split probability function\n",
    "def splitp(c,cmax):\n",
    "    return min(1,(c/cmax)**2)\n",
    "\n",
    "# grow probability function\n",
    "def growthp(c,cmin):\n",
    "    return min(1,(cmin/c)**2)\n",
    "\n",
    "# return indexes based on probabilities\n",
    "def selector(probs):\n",
    "    return np.where(np.random.random(size=len(probs)) < probs)[0]"
   ]
  },
  {
   "cell_type": "code",
   "execution_count": 7,
   "id": "d6321af6",
   "metadata": {},
   "outputs": [],
   "source": [
    "# create cases (or bins) with length, width, and height inputs\n",
    "def create_cases(limits, n, bins_flag=False, vol_flag=True):\n",
    "    \n",
    "    # create dimensions dataframe\n",
    "    cases = pd.DataFrame(columns=['L','W','H'])\n",
    "    \n",
    "    # populate dataframe\n",
    "    for k in limits.keys():\n",
    "        cases[k] = randim(limits[k], n, bins_flag)\n",
    "\n",
    "    # sort ascending order\n",
    "    cases = cases.sort_values(['L','W','H']).reset_index(drop=True)\n",
    "    \n",
    "    # calculate volume (cuft)\n",
    "    if vol_flag:\n",
    "        cases['V'] = np.round(cases.L * cases.W * cases.H / 12**3, 2)\n",
    "    \n",
    "    if bins_flag:\n",
    "        # max volume for \"no bin\" bin\n",
    "        cases.V.values[-1] = math.inf      \n",
    "       \n",
    "    return cases"
   ]
  },
  {
   "cell_type": "code",
   "execution_count": 231,
   "id": "9095bb89",
   "metadata": {},
   "outputs": [],
   "source": [
    "# calculate fitness of bin population\n",
    "def binPOPfit(cases, nbins, beta = 0):\n",
    "    \n",
    "    ncases = len(cases)\n",
    "    \n",
    "    ### RETHINK THIS - there should be a battle between binned and utility\n",
    "    # calc percentage of cases with bins\n",
    "    # exclude max binID (catches too-big cases)\n",
    "    idxID = cases.binID < (nbins-1)\n",
    "    binned = sum(idxID) / ncases\n",
    "    \n",
    "    # total bin utilization (excluding extremes)\n",
    "    if sum(cases.binV[idxID]) != 0:\n",
    "        util = sum(cases.V[idxID]) / sum(cases.binV[idxID])\n",
    "    else:\n",
    "        util = 0\n",
    "    \n",
    "    # unique bin count\n",
    "    uniqueB = len(set(cases.binID))\n",
    "\n",
    "    # total fitness\n",
    "    F = binned * util * (1 - beta*uniqueB/nbins)\n",
    "    \n",
    "    return binned, util"
   ]
  },
  {
   "cell_type": "code",
   "execution_count": 232,
   "id": "4500bd01",
   "metadata": {},
   "outputs": [],
   "source": [
    "def mutate(bins,step=1):   \n",
    "    nbins = len(bins)\n",
    "    \n",
    "    # potential sizes of mutations\n",
    "    mshift = list(range(-step,step+1))\n",
    "    # calculate mutations\n",
    "    mutations = list(chunk(random.choices(mshift, k=3*nbins), 3))\n",
    "    mutations = pd.DataFrame(mutations, columns=['L','W','H'])\n",
    "    # add mutations to selected rows\n",
    "    bins = bins.reset_index(drop=True) + mutations\n",
    "    \n",
    "    return bins\n"
   ]
  },
  {
   "cell_type": "code",
   "execution_count": 65,
   "id": "422a42b5",
   "metadata": {},
   "outputs": [],
   "source": [
    "# print block\n",
    "def printdetails():\n",
    "    print('gen', gen)\n",
    "    #print('cases')\n",
    "    #print(casePOP)\n",
    "    print('bins')\n",
    "    print(binPOP)\n",
    "    print('binned', binned)\n",
    "    print('util', util) \n",
    "    print(' ')"
   ]
  },
  {
   "cell_type": "code",
   "execution_count": 259,
   "id": "747639d9",
   "metadata": {},
   "outputs": [],
   "source": [
    "def shrink(bins):\n",
    "    \n",
    "    # shrink probability increases as utility decreases, \n",
    "    # zero at 100% utility, one when utility is zero\n",
    "    # catch bin (nobin) will always shrink (essentially creates new bin)\n",
    "    probs = shrinkp(bins.util)\n",
    "    \n",
    "    # selection of bins to shrink, based on probabilities set above\n",
    "    shrinkIDs = selector(probs)\n",
    "    \n",
    "    # shrink to maximum dimensions across all cases in bin\n",
    "    shrinks = bins.loc[shrinkIDs,['Lmax','Wmax','Hmax']] \n",
    "    shrinks.columns = LWH\n",
    "    \n",
    "    # update shrink bins\n",
    "    bins.update(shrinks)   \n",
    "    \n",
    "    return bins"
   ]
  },
  {
   "cell_type": "code",
   "execution_count": 268,
   "id": "cf409af8",
   "metadata": {},
   "outputs": [],
   "source": [
    "def grow(bins,cmin,step):\n",
    "    \n",
    "    # grow probability increases as bin gets closer to minimum case count\n",
    "    # probability is 100% at minimum case count (and below)\n",
    "    probs = [growthp(c,cmin) for c in bins.cases]\n",
    "    \n",
    "    # selection of bins to grow, based on probabilities set above\n",
    "    growIDs = selector(probs)\n",
    "    \n",
    "    # get new dimensions by adding growth step to maximum dimensions (across all cases in bin)\n",
    "    grows = bins.loc[growIDs,['Lmax','Wmax','Hmax']] + step\n",
    "    grows.columns = LWH\n",
    "    \n",
    "    # update grow bins\n",
    "    bins.update(grows) \n",
    "    \n",
    "    return bins"
   ]
  },
  {
   "cell_type": "code",
   "execution_count": 260,
   "id": "96aac835",
   "metadata": {},
   "outputs": [],
   "source": [
    "def split(bins,cmax):\n",
    "    \n",
    "    # split probability increases as bin gets closer to maximum case count\n",
    "    # probability is 100% at maximum case count (and above) \n",
    "    probs = [splitp(c,cmax) for c in bins.cases]\n",
    "    \n",
    "    # select bins to split, based on probabilities set above\n",
    "    splitIDs = selector(probs)\n",
    "    \n",
    "    # get case IDs for \"median\" case in each bin\n",
    "    caseIDs = bins.loc[splitIDs, 'caseIDs'].apply(np.median).astype(int)\n",
    "    \n",
    "    # calculate cases in (new) smaller bin and remaining in (original) larger bin\n",
    "    # reset index for small to match new bins; keep index for original\n",
    "    small = bins.loc[splitIDs, 'cases'].apply(lambda x: math.ceil(x/2)).reset_index(drop=True)\n",
    "    big = bins.loc[splitIDs, 'cases'].apply(lambda x: math.floor(x/2))\n",
    " \n",
    "    # set new, smaller bin dimensions to \"median\" case dimensions\n",
    "    # and add case count\n",
    "    splits = cases.loc[caseIDs,LWH].reset_index(drop=True)\n",
    "    splits['cases'] = 0\n",
    "    splits.update(pd.Series(small, name='cases', index=list(range(len(splitIDs)))))\n",
    "\n",
    "    # update case count for original bins after split\n",
    "    bins.update(pd.Series(big, name='cases', index=splitIDs)) \n",
    "        \n",
    "    # add splits to bins\n",
    "    bins = pd.concat([bins, splits], ignore_index=True).reset_index(drop=True)\n",
    "    \n",
    "    return bins"
   ]
  },
  {
   "cell_type": "code",
   "execution_count": 262,
   "id": "757f5b55",
   "metadata": {},
   "outputs": [],
   "source": [
    "def cleanup(bins):\n",
    "    # sort bins\n",
    "    bins = bins.sort_values(LWH)\n",
    "    \n",
    "    # drop duplicates\n",
    "    bins.drop_duplicates(inplace=True, ignore_index=True)\n",
    "    \n",
    "    # calculate volume\n",
    "    bins['V'] = bins.L * bins.W * bins.H / 12**3\n",
    "\n",
    "    # add catch bin\n",
    "    bins = add_infbin(bins, Vflag=True)\n",
    "    \n",
    "    return bins"
   ]
  },
  {
   "cell_type": "code",
   "execution_count": 315,
   "id": "4f0584eb",
   "metadata": {
    "scrolled": false
   },
   "outputs": [
    {
     "data": {
      "text/plain": [
       "array([1, 0, 0, 0, 1, 0])"
      ]
     },
     "execution_count": 315,
     "metadata": {},
     "output_type": "execute_result"
    }
   ],
   "source": [
    "randim([0,2],nbins)"
   ]
  },
  {
   "cell_type": "code",
   "execution_count": 313,
   "id": "6d592246",
   "metadata": {},
   "outputs": [
    {
     "data": {
      "text/plain": [
       "6"
      ]
     },
     "execution_count": 313,
     "metadata": {},
     "output_type": "execute_result"
    }
   ],
   "source": [
    "nbins"
   ]
  },
  {
   "cell_type": "code",
   "execution_count": 310,
   "id": "cb1d316a",
   "metadata": {},
   "outputs": [
    {
     "data": {
      "text/plain": [
       "[0, 1, 2, 3, 4, 5]"
      ]
     },
     "execution_count": 310,
     "metadata": {},
     "output_type": "execute_result"
    }
   ],
   "source": [
    "range(nbins)"
   ]
  },
  {
   "cell_type": "code",
   "execution_count": 308,
   "id": "615f1859",
   "metadata": {
    "scrolled": true
   },
   "outputs": [
    {
     "data": {
      "text/plain": [
       "array([4, 1, 4, 1, 4, 1])"
      ]
     },
     "execution_count": 308,
     "metadata": {},
     "output_type": "execute_result"
    }
   ],
   "source": [
    "np.random.randint(0, nbins, nbins)"
   ]
  },
  {
   "cell_type": "code",
   "execution_count": 279,
   "id": "db4c62d2",
   "metadata": {},
   "outputs": [],
   "source": [
    "def nextgen(bins, cases, cmin, cmax):\n",
    "    \n",
    "    # settings\n",
    "    kill = True\n",
    "    shrink = True\n",
    "    grow = True\n",
    "    split = True\n",
    "    offspring = False\n",
    "    mutations = True\n",
    "    mutaterate = 0.1\n",
    "    growthstep = 1\n",
    "    \n",
    "    nbins = len(bins)\n",
    "    ncases = len(cases)    \n",
    "    \n",
    "    ### 1 - IDENTIFY SURVIVORS: they live  \n",
    "    # bins survive when they hold minimum case count\n",
    "    if kill:\n",
    "        survivors = [c>=cmin for c in bins.cases]\n",
    "        bins = bins.loc[survivors].reset_index(drop=True)\n",
    "   \n",
    "    ### 2 - LOW UTILITY: shrink bin size\n",
    "    if shrink:\n",
    "        bins = shrink(bins)\n",
    "    \n",
    "    ### 3 - LOW CASE COUNTS: grow bin size\n",
    "    if grow:\n",
    "        bins = grow(bins,cmin,growthstep)\n",
    "\n",
    "    ### 4 - HIGH CASE COUNT: \"split\" into two bins (create smaller bin)\n",
    "    if split:\n",
    "        bins = split(bins,cmax)\n",
    "    \n",
    "    \n",
    "    ### surviving population - dimensions only (drop fit data)\n",
    "    bins = bins.copy()[LWH] \n",
    "    nbins = len(bins)\n",
    "    \n",
    "    ### 5 - OFFSPRING\n",
    "    # combine dimensions of \"best\" bins to form new bins\n",
    "    # (\"best\" bins are parents, new bins are offspring)\n",
    "    # chose splice location randomly\n",
    "    if splicing:\n",
    "        splicedim = randim([0,2],nbins)\n",
    "        replacements = create_cases(binlimits, zbins, vol_flag=False)\n",
    "        bins = pd.concat([bins, replacements], ignore_index=True)\n",
    "\n",
    "    ### 6 - MUTATIONS\n",
    "    # mutate survivors plus new bins from splicing\n",
    "    if mutations:\n",
    "        binIDs = selector([mutaterate]*len(bins))\n",
    "        if len(binIDs)!=0:\n",
    "            mutants = mutate(bins.loc[binIDs,:])\n",
    "            bins.update(mutants)   \n",
    "    \n",
    "    ### 7 - CLEANUP\n",
    "    # prepare bins to be next generation\n",
    "    bins = cleanup(bins)\n",
    "    \n",
    "    return bins"
   ]
  },
  {
   "cell_type": "code",
   "execution_count": 280,
   "id": "f61e2dfb",
   "metadata": {},
   "outputs": [],
   "source": [
    "# calculate fitness of each bin relative to bin population fitness\n",
    "def binFIT(cases, bins, util):\n",
    "    \n",
    "    ncases = len(cases)\n",
    "    nbins = len(bins)\n",
    "\n",
    "    # total volumes (cases and bins)\n",
    "    cases['caseID'] = cases.index\n",
    "    fit = cases.groupby('binID').agg(\n",
    "        cases = ('binID', 'count'),\n",
    "        totalV = ('V', 'sum'),\n",
    "        totalbinV = ('binV', 'sum'),\n",
    "        caseIDs = ('caseID', list),\n",
    "        Lmin = ('L', 'min'),\n",
    "        Wmin = ('W', 'min'),\n",
    "        Hmin = ('H', 'min'),\n",
    "        Lmax = ('L', 'max'),\n",
    "        Wmax = ('W', 'max'),\n",
    "        Hmax = ('H', 'max')\n",
    "    )  \n",
    "    \n",
    "    # drop last bin ('not' binned bin)\n",
    "    drop_idx = list(set.intersection(set(fit.index), {nbins+1}))\n",
    "    fit.drop(index=drop_idx, inplace=True)\n",
    "    \n",
    "    # calculate utilization and fitness\n",
    "    fit['util'] = fit.totalV / fit.totalbinV\n",
    "    fit['fitratio'] = fit.util / util\n",
    "    \n",
    "    # join bins and fit data\n",
    "    bins = pd.concat([bins, fit], axis=1, join='outer')\n",
    "    bins.fillna(0, inplace=True)\n",
    "    bins.cases = bins.cases.astype(int)\n",
    "      \n",
    "    return bins"
   ]
  },
  {
   "cell_type": "code",
   "execution_count": 281,
   "id": "efbab5cd",
   "metadata": {},
   "outputs": [],
   "source": [
    "def fit_to_bins(cases, bins):\n",
    "    \n",
    "    # initialize\n",
    "    ncases = len(cases)\n",
    "    nbins = len(bins)\n",
    "    binIDs = [0] * ncases\n",
    "    \n",
    "    # loop through each case\n",
    "    for i in range(ncases):\n",
    "        casei = cases.loc[i,LWH].to_frame().T.reset_index(drop=True)\n",
    "        \n",
    "        # join case to bin list\n",
    "        joined = bins.join(-casei, lsuffix='bin', rsuffix='case').ffill()\n",
    "        \n",
    "        # check each case dimension against each bin dimension\n",
    "        fits = (joined.groupby(joined.columns.str[0], axis=1).sum()[LWH] >= 0)\n",
    "        fits.iloc[-1] = [True]*3 # until I figure out sum with inf\n",
    "\n",
    "        # choose first bin that fits\n",
    "        binIDs[i] = np.min(np.where(fits.product(axis=1)))\n",
    "        \n",
    "    cases['binID'] = binIDs\n",
    "    cases['binV'] = bins.V[cases.binID].reset_index(drop=True)\n",
    "    \n",
    "    return cases"
   ]
  },
  {
   "cell_type": "code",
   "execution_count": 291,
   "id": "73c8bc1e",
   "metadata": {
    "scrolled": false
   },
   "outputs": [],
   "source": [
    "# initialization \n",
    "\n",
    "## set up dimension ranges for randomly sized cases or bins\n",
    "caselimits = {'L': [20,30], 'W': [10,20], 'H': [5,10]}\n",
    "binlimits = {'L': [20,30], 'W': [10,20], 'H': [5,10]}"
   ]
  },
  {
   "cell_type": "code",
   "execution_count": 298,
   "id": "13c45677",
   "metadata": {
    "scrolled": false
   },
   "outputs": [
    {
     "name": "stdout",
     "output_type": "stream",
     "text": [
      "    L   W  H     V\n",
      "0  20  17  9  1.77\n",
      "1  21  14  5  0.85\n",
      "2  23  10  9  1.20\n",
      "3  23  12  5  0.80\n",
      "4  25  15  5  1.09\n",
      "5  26  12  6  1.08\n",
      "6  26  13  9  1.76\n",
      "7  27  14  6  1.31\n",
      "8  29  13  5  1.09\n",
      "9  29  14  5  1.17\n"
     ]
    }
   ],
   "source": [
    "ncases = 10\n",
    "nbins = 3\n",
    "cmax = ncases / nbins * 2\n",
    "cmin = ncases / nbins / 3\n",
    "\n",
    "generations = 100\n",
    "results = pd.DataFrame(columns=['bintocaseratio', \n",
    "                                'binned', \n",
    "                                'util',\n",
    "                                'caseminp',\n",
    "                                'casemedp',\n",
    "                                'casemaxp'], index=range(generations))\n",
    "binhistory = []\n",
    "archive = True\n",
    "print_flag = True\n",
    "\n",
    "# create initial population of cases\n",
    "casePOP = create_cases(caselimits, ncases)\n",
    "print(casePOP)\n",
    "\n",
    "# create initial (unique) population of bins\n",
    "# get unique set of bins\n",
    "binPOP = create_cases(binlimits, nbins, bins_flag=True)\n",
    "\n",
    "# generation loop\n",
    "for gen in range(generations):\n",
    "            \n",
    "    nbins = len(binPOP)\n",
    "    \n",
    "    # match current population of cases to bins\n",
    "    casePOP = fit_to_bins(casePOP, binPOP)\n",
    "        \n",
    "    # get fitness of current bin population\n",
    "    binned, util = binPOPfit(casePOP, nbins)\n",
    "    \n",
    "    # add fitness to bin population\n",
    "    binPOP = binFIT(casePOP, binPOP, util)   \n",
    "\n",
    "    # store results\n",
    "    results.bintocaseratio[gen] = (nbins - 1)/ncases * 100\n",
    "    results.binned[gen] = binned * 100\n",
    "    results.util[gen] = util * 100\n",
    "    results.caseminp[gen] = np.min(binPOP.cases[binPOP.cases>0]) / ncases * 100\n",
    "    results.casemedp[gen] = np.median(binPOP.cases) / ncases * 100\n",
    "    results.casemaxp[gen] = np.max(binPOP.cases) / ncases * 100\n",
    "    \n",
    "    # save history\n",
    "    if archive:\n",
    "        binhistory.append(binPOP)\n",
    "        \n",
    "    if print_flag & (generations<=10):\n",
    "        printdetails()\n",
    "\n",
    "    # new generation  \n",
    "    binPOP = nextgen(binPOP, casePOP, cmin, cmax)\n",
    "    \n",
    "    # new case population\n",
    "    casePOP = create_cases(caselimits, ncases)\n"
   ]
  },
  {
   "cell_type": "code",
   "execution_count": 299,
   "id": "f87a1770",
   "metadata": {
    "scrolled": false
   },
   "outputs": [
    {
     "data": {
      "text/plain": [
       "99"
      ]
     },
     "execution_count": 299,
     "metadata": {},
     "output_type": "execute_result"
    }
   ],
   "source": [
    "gen"
   ]
  },
  {
   "cell_type": "code",
   "execution_count": 300,
   "id": "c22f1383",
   "metadata": {
    "scrolled": false
   },
   "outputs": [
    {
     "data": {
      "application/vnd.plotly.v1+json": {
       "config": {
        "plotlyServerURL": "https://plot.ly"
       },
       "data": [
        {
         "hovertemplate": "measure=bintocaseratio<br>index=%{x}<br>value=%{y}<extra></extra>",
         "legendgroup": "bintocaseratio",
         "line": {
          "color": "#636efa",
          "dash": "dash"
         },
         "marker": {
          "symbol": "circle"
         },
         "mode": "lines",
         "name": "bintocaseratio",
         "orientation": "h",
         "showlegend": true,
         "type": "scatter",
         "x": [
          0,
          1,
          2,
          3,
          4,
          5,
          6,
          7,
          8,
          9,
          10,
          11,
          12,
          13,
          14,
          15,
          16,
          17,
          18,
          19,
          20,
          21,
          22,
          23,
          24,
          25,
          26,
          27,
          28,
          29,
          30,
          31,
          32,
          33,
          34,
          35,
          36,
          37,
          38,
          39,
          40,
          41,
          42,
          43,
          44,
          45,
          46,
          47,
          48,
          49,
          50,
          51,
          52,
          53,
          54,
          55,
          56,
          57,
          58,
          59,
          60,
          61,
          62,
          63,
          64,
          65,
          66,
          67,
          68,
          69,
          70,
          71,
          72,
          73,
          74,
          75,
          76,
          77,
          78,
          79,
          80,
          81,
          82,
          83,
          84,
          85,
          86,
          87,
          88,
          89,
          90,
          91,
          92,
          93,
          94,
          95,
          96,
          97,
          98,
          99
         ],
         "xaxis": "x",
         "y": [
          30,
          30,
          30,
          30,
          50,
          20,
          30,
          50,
          40,
          30,
          40,
          30,
          30,
          40,
          30,
          30,
          30,
          30,
          40,
          30,
          30,
          30,
          30,
          30,
          50,
          40,
          30,
          30,
          20,
          30,
          30,
          30,
          20,
          40,
          20,
          20,
          20,
          30,
          20,
          20,
          20,
          20,
          20,
          20,
          20,
          20,
          30,
          20,
          20,
          30,
          40,
          30,
          30,
          30,
          30,
          30,
          40,
          30,
          20,
          30,
          30,
          30,
          30,
          50,
          30,
          20,
          20,
          30,
          30,
          30,
          40,
          30,
          20,
          40,
          20,
          30,
          20,
          30,
          20,
          30,
          40,
          40,
          20,
          30,
          30,
          40,
          30,
          40,
          40,
          30,
          30,
          40,
          30,
          30,
          30,
          20,
          50,
          40,
          40,
          50
         ],
         "yaxis": "y"
        },
        {
         "hovertemplate": "measure=binned<br>index=%{x}<br>value=%{y}<extra></extra>",
         "legendgroup": "binned",
         "line": {
          "color": "#EF553B",
          "dash": "solid"
         },
         "marker": {
          "symbol": "circle"
         },
         "mode": "lines",
         "name": "binned",
         "orientation": "h",
         "showlegend": true,
         "type": "scatter",
         "x": [
          0,
          1,
          2,
          3,
          4,
          5,
          6,
          7,
          8,
          9,
          10,
          11,
          12,
          13,
          14,
          15,
          16,
          17,
          18,
          19,
          20,
          21,
          22,
          23,
          24,
          25,
          26,
          27,
          28,
          29,
          30,
          31,
          32,
          33,
          34,
          35,
          36,
          37,
          38,
          39,
          40,
          41,
          42,
          43,
          44,
          45,
          46,
          47,
          48,
          49,
          50,
          51,
          52,
          53,
          54,
          55,
          56,
          57,
          58,
          59,
          60,
          61,
          62,
          63,
          64,
          65,
          66,
          67,
          68,
          69,
          70,
          71,
          72,
          73,
          74,
          75,
          76,
          77,
          78,
          79,
          80,
          81,
          82,
          83,
          84,
          85,
          86,
          87,
          88,
          89,
          90,
          91,
          92,
          93,
          94,
          95,
          96,
          97,
          98,
          99
         ],
         "xaxis": "x",
         "y": [
          20,
          90,
          90,
          80,
          100,
          80,
          80,
          80,
          90,
          90,
          70,
          80,
          70,
          100,
          100,
          100,
          80,
          100,
          90,
          100,
          100,
          70,
          90,
          80,
          80,
          100,
          90,
          10,
          70,
          90,
          90,
          50,
          100,
          90,
          100,
          90,
          80,
          90,
          100,
          90,
          10,
          100,
          100,
          90,
          100,
          90,
          90,
          90,
          70,
          80,
          70,
          100,
          100,
          100,
          100,
          100,
          100,
          100,
          100,
          100,
          100,
          100,
          100,
          100,
          100,
          20,
          60,
          100,
          100,
          100,
          100,
          100,
          70,
          100,
          80,
          100,
          60,
          100,
          30,
          80,
          90,
          90,
          100,
          80,
          20,
          100,
          40,
          100,
          100,
          100,
          100,
          80,
          100,
          100,
          90,
          70,
          50,
          100,
          60,
          80
         ],
         "yaxis": "y"
        },
        {
         "hovertemplate": "measure=util<br>index=%{x}<br>value=%{y}<extra></extra>",
         "legendgroup": "util",
         "line": {
          "color": "#00cc96",
          "dash": "solid"
         },
         "marker": {
          "symbol": "circle"
         },
         "mode": "lines",
         "name": "util",
         "orientation": "h",
         "showlegend": true,
         "type": "scatter",
         "x": [
          0,
          1,
          2,
          3,
          4,
          5,
          6,
          7,
          8,
          9,
          10,
          11,
          12,
          13,
          14,
          15,
          16,
          17,
          18,
          19,
          20,
          21,
          22,
          23,
          24,
          25,
          26,
          27,
          28,
          29,
          30,
          31,
          32,
          33,
          34,
          35,
          36,
          37,
          38,
          39,
          40,
          41,
          42,
          43,
          44,
          45,
          46,
          47,
          48,
          49,
          50,
          51,
          52,
          53,
          54,
          55,
          56,
          57,
          58,
          59,
          60,
          61,
          62,
          63,
          64,
          65,
          66,
          67,
          68,
          69,
          70,
          71,
          72,
          73,
          74,
          75,
          76,
          77,
          78,
          79,
          80,
          81,
          82,
          83,
          84,
          85,
          86,
          87,
          88,
          89,
          90,
          91,
          92,
          93,
          94,
          95,
          96,
          97,
          98,
          99
         ],
         "xaxis": "x",
         "y": [
          73.00884955752213,
          62.934239592183516,
          52.87409903068128,
          60.44928522804628,
          61.093021004743,
          48.50278232405893,
          56.04729250413809,
          67.89813599369913,
          63.03600847258177,
          66.95874822190612,
          51.0901287553648,
          67.92283758556317,
          61.793103448275865,
          48.49655172413794,
          41.11448275862069,
          42.70344827586207,
          60.52959693846059,
          51.477844311377254,
          58.75181169291125,
          55.58871625241677,
          43.74074074074073,
          48.252981969486825,
          62.954773869346745,
          59.97859788722734,
          53.893182117895286,
          64.73235855054035,
          51.919516376432384,
          72,
          63.06666666666667,
          55.53965785381026,
          61.66423357664234,
          62.233766233766254,
          58.10526315789474,
          44.28270676691731,
          55.29572540918481,
          43.90562613430127,
          51.92899408284024,
          48.857142857142854,
          46.080000000000005,
          56.795939086294425,
          59.61038961038961,
          50.25042364903031,
          42.86925795053004,
          58.289085545722706,
          48.90225563909775,
          58.11840599313287,
          52.00643826166935,
          50.87499999999999,
          56.672993075147474,
          56.671700664938584,
          50.97435897435898,
          60.16411906677395,
          47.32915662650603,
          44.94205354117249,
          43.48283518360376,
          48.18767249310029,
          51.40759334797615,
          45.40554425773307,
          45.667844522968196,
          45.13027061044682,
          54.117647058823536,
          58.37737789203086,
          65.84924623115577,
          53.92931450223906,
          48.365880217785836,
          69.79479326186832,
          58.82352941176471,
          52.10479485912012,
          60.13638980701567,
          59.56638871071199,
          56.838427947598255,
          48.55578702582238,
          50.555956678700376,
          60.96842105263157,
          55.342897392404346,
          55.253380312706454,
          54.89278752436647,
          49.83356070941337,
          54.34541577825159,
          59.8033802090053,
          48.91619445272889,
          60.57798797006291,
          61.03336921420885,
          47.60569024243639,
          91.0162940507768,
          50.914285714285725,
          58.52216748768474,
          63.950173780063956,
          60.90539059148754,
          66.59082908754053,
          62.23478459083657,
          45.8,
          46.048351648351655,
          44.246616541353376,
          60.907519446845306,
          61.97767564018385,
          63.935025380710655,
          58.13357000221877,
          67.41439205955336,
          60.163064141378584
         ],
         "yaxis": "y"
        },
        {
         "hovertemplate": "measure=caseminp<br>index=%{x}<br>value=%{y}<extra></extra>",
         "legendgroup": "caseminp",
         "line": {
          "color": "#ab63fa",
          "dash": "dot"
         },
         "marker": {
          "symbol": "circle"
         },
         "mode": "lines",
         "name": "caseminp",
         "orientation": "h",
         "showlegend": true,
         "type": "scatter",
         "x": [
          0,
          1,
          2,
          3,
          4,
          5,
          6,
          7,
          8,
          9,
          10,
          11,
          12,
          13,
          14,
          15,
          16,
          17,
          18,
          19,
          20,
          21,
          22,
          23,
          24,
          25,
          26,
          27,
          28,
          29,
          30,
          31,
          32,
          33,
          34,
          35,
          36,
          37,
          38,
          39,
          40,
          41,
          42,
          43,
          44,
          45,
          46,
          47,
          48,
          49,
          50,
          51,
          52,
          53,
          54,
          55,
          56,
          57,
          58,
          59,
          60,
          61,
          62,
          63,
          64,
          65,
          66,
          67,
          68,
          69,
          70,
          71,
          72,
          73,
          74,
          75,
          76,
          77,
          78,
          79,
          80,
          81,
          82,
          83,
          84,
          85,
          86,
          87,
          88,
          89,
          90,
          91,
          92,
          93,
          94,
          95,
          96,
          97,
          98,
          99
         ],
         "xaxis": "x",
         "y": [
          20,
          10,
          10,
          20,
          10,
          10,
          20,
          20,
          10,
          10,
          10,
          10,
          20,
          20,
          20,
          20,
          10,
          40,
          10,
          10,
          20,
          10,
          10,
          10,
          10,
          10,
          10,
          10,
          30,
          10,
          10,
          10,
          30,
          10,
          10,
          10,
          20,
          10,
          100,
          10,
          10,
          10,
          20,
          10,
          100,
          10,
          10,
          10,
          10,
          20,
          10,
          30,
          50,
          30,
          10,
          10,
          10,
          10,
          20,
          20,
          30,
          10,
          20,
          30,
          100,
          10,
          20,
          10,
          50,
          30,
          40,
          10,
          20,
          100,
          10,
          10,
          40,
          10,
          10,
          20,
          10,
          10,
          40,
          10,
          20,
          20,
          40,
          10,
          10,
          10,
          20,
          20,
          20,
          10,
          10,
          20,
          10,
          10,
          20,
          10
         ],
         "yaxis": "y"
        },
        {
         "hovertemplate": "measure=casemedp<br>index=%{x}<br>value=%{y}<extra></extra>",
         "legendgroup": "casemedp",
         "line": {
          "color": "#FFA15A",
          "dash": "dot"
         },
         "marker": {
          "symbol": "circle"
         },
         "mode": "lines",
         "name": "casemedp",
         "orientation": "h",
         "showlegend": true,
         "type": "scatter",
         "x": [
          0,
          1,
          2,
          3,
          4,
          5,
          6,
          7,
          8,
          9,
          10,
          11,
          12,
          13,
          14,
          15,
          16,
          17,
          18,
          19,
          20,
          21,
          22,
          23,
          24,
          25,
          26,
          27,
          28,
          29,
          30,
          31,
          32,
          33,
          34,
          35,
          36,
          37,
          38,
          39,
          40,
          41,
          42,
          43,
          44,
          45,
          46,
          47,
          48,
          49,
          50,
          51,
          52,
          53,
          54,
          55,
          56,
          57,
          58,
          59,
          60,
          61,
          62,
          63,
          64,
          65,
          66,
          67,
          68,
          69,
          70,
          71,
          72,
          73,
          74,
          75,
          76,
          77,
          78,
          79,
          80,
          81,
          82,
          83,
          84,
          85,
          86,
          87,
          88,
          89,
          90,
          91,
          92,
          93,
          94,
          95,
          96,
          97,
          98,
          99
         ],
         "xaxis": "x",
         "y": [
          10,
          15,
          15,
          20,
          10,
          20,
          25,
          20,
          20,
          25,
          10,
          25,
          25,
          0,
          10,
          10,
          20,
          20,
          20,
          20,
          10,
          20,
          15,
          20,
          20,
          10,
          15,
          5,
          30,
          20,
          20,
          25,
          30,
          0,
          10,
          40,
          30,
          10,
          0,
          10,
          10,
          10,
          20,
          40,
          0,
          20,
          10,
          10,
          30,
          20,
          10,
          15,
          25,
          30,
          20,
          25,
          10,
          5,
          20,
          30,
          30,
          15,
          25,
          0,
          0,
          10,
          40,
          20,
          25,
          15,
          0,
          5,
          30,
          0,
          20,
          5,
          40,
          5,
          20,
          20,
          10,
          10,
          40,
          15,
          10,
          0,
          20,
          20,
          10,
          20,
          25,
          0,
          10,
          15,
          10,
          30,
          15,
          10,
          20,
          20
         ],
         "yaxis": "y"
        },
        {
         "hovertemplate": "measure=casemaxp<br>index=%{x}<br>value=%{y}<extra></extra>",
         "legendgroup": "casemaxp",
         "line": {
          "color": "#19d3f3",
          "dash": "dot"
         },
         "marker": {
          "symbol": "circle"
         },
         "mode": "lines",
         "name": "casemaxp",
         "orientation": "h",
         "showlegend": true,
         "type": "scatter",
         "x": [
          0,
          1,
          2,
          3,
          4,
          5,
          6,
          7,
          8,
          9,
          10,
          11,
          12,
          13,
          14,
          15,
          16,
          17,
          18,
          19,
          20,
          21,
          22,
          23,
          24,
          25,
          26,
          27,
          28,
          29,
          30,
          31,
          32,
          33,
          34,
          35,
          36,
          37,
          38,
          39,
          40,
          41,
          42,
          43,
          44,
          45,
          46,
          47,
          48,
          49,
          50,
          51,
          52,
          53,
          54,
          55,
          56,
          57,
          58,
          59,
          60,
          61,
          62,
          63,
          64,
          65,
          66,
          67,
          68,
          69,
          70,
          71,
          72,
          73,
          74,
          75,
          76,
          77,
          78,
          79,
          80,
          81,
          82,
          83,
          84,
          85,
          86,
          87,
          88,
          89,
          90,
          91,
          92,
          93,
          94,
          95,
          96,
          97,
          98,
          99
         ],
         "xaxis": "x",
         "y": [
          80,
          60,
          70,
          40,
          50,
          70,
          30,
          30,
          30,
          40,
          60,
          40,
          50,
          80,
          80,
          80,
          50,
          60,
          40,
          60,
          80,
          60,
          70,
          50,
          30,
          50,
          60,
          90,
          40,
          50,
          60,
          50,
          70,
          90,
          90,
          50,
          50,
          80,
          100,
          80,
          90,
          90,
          80,
          50,
          100,
          70,
          70,
          80,
          60,
          60,
          60,
          70,
          50,
          40,
          60,
          50,
          70,
          90,
          80,
          40,
          40,
          70,
          50,
          70,
          100,
          80,
          40,
          60,
          50,
          70,
          60,
          90,
          50,
          100,
          70,
          90,
          60,
          90,
          70,
          40,
          60,
          70,
          60,
          70,
          80,
          80,
          60,
          40,
          60,
          60,
          50,
          80,
          80,
          70,
          80,
          50,
          50,
          40,
          40,
          20
         ],
         "yaxis": "y"
        }
       ],
       "layout": {
        "legend": {
         "title": {
          "text": "measure"
         },
         "tracegroupgap": 0
        },
        "margin": {
         "t": 60
        },
        "shapes": [
         {
          "line": {
           "dash": "dot"
          },
          "type": "line",
          "x0": 0,
          "x1": 1,
          "xref": "x domain",
          "y0": 100,
          "y1": 100,
          "yref": "y"
         }
        ],
        "template": {
         "data": {
          "bar": [
           {
            "error_x": {
             "color": "#2a3f5f"
            },
            "error_y": {
             "color": "#2a3f5f"
            },
            "marker": {
             "line": {
              "color": "#E5ECF6",
              "width": 0.5
             },
             "pattern": {
              "fillmode": "overlay",
              "size": 10,
              "solidity": 0.2
             }
            },
            "type": "bar"
           }
          ],
          "barpolar": [
           {
            "marker": {
             "line": {
              "color": "#E5ECF6",
              "width": 0.5
             },
             "pattern": {
              "fillmode": "overlay",
              "size": 10,
              "solidity": 0.2
             }
            },
            "type": "barpolar"
           }
          ],
          "carpet": [
           {
            "aaxis": {
             "endlinecolor": "#2a3f5f",
             "gridcolor": "white",
             "linecolor": "white",
             "minorgridcolor": "white",
             "startlinecolor": "#2a3f5f"
            },
            "baxis": {
             "endlinecolor": "#2a3f5f",
             "gridcolor": "white",
             "linecolor": "white",
             "minorgridcolor": "white",
             "startlinecolor": "#2a3f5f"
            },
            "type": "carpet"
           }
          ],
          "choropleth": [
           {
            "colorbar": {
             "outlinewidth": 0,
             "ticks": ""
            },
            "type": "choropleth"
           }
          ],
          "contour": [
           {
            "colorbar": {
             "outlinewidth": 0,
             "ticks": ""
            },
            "colorscale": [
             [
              0,
              "#0d0887"
             ],
             [
              0.1111111111111111,
              "#46039f"
             ],
             [
              0.2222222222222222,
              "#7201a8"
             ],
             [
              0.3333333333333333,
              "#9c179e"
             ],
             [
              0.4444444444444444,
              "#bd3786"
             ],
             [
              0.5555555555555556,
              "#d8576b"
             ],
             [
              0.6666666666666666,
              "#ed7953"
             ],
             [
              0.7777777777777778,
              "#fb9f3a"
             ],
             [
              0.8888888888888888,
              "#fdca26"
             ],
             [
              1,
              "#f0f921"
             ]
            ],
            "type": "contour"
           }
          ],
          "contourcarpet": [
           {
            "colorbar": {
             "outlinewidth": 0,
             "ticks": ""
            },
            "type": "contourcarpet"
           }
          ],
          "heatmap": [
           {
            "colorbar": {
             "outlinewidth": 0,
             "ticks": ""
            },
            "colorscale": [
             [
              0,
              "#0d0887"
             ],
             [
              0.1111111111111111,
              "#46039f"
             ],
             [
              0.2222222222222222,
              "#7201a8"
             ],
             [
              0.3333333333333333,
              "#9c179e"
             ],
             [
              0.4444444444444444,
              "#bd3786"
             ],
             [
              0.5555555555555556,
              "#d8576b"
             ],
             [
              0.6666666666666666,
              "#ed7953"
             ],
             [
              0.7777777777777778,
              "#fb9f3a"
             ],
             [
              0.8888888888888888,
              "#fdca26"
             ],
             [
              1,
              "#f0f921"
             ]
            ],
            "type": "heatmap"
           }
          ],
          "heatmapgl": [
           {
            "colorbar": {
             "outlinewidth": 0,
             "ticks": ""
            },
            "colorscale": [
             [
              0,
              "#0d0887"
             ],
             [
              0.1111111111111111,
              "#46039f"
             ],
             [
              0.2222222222222222,
              "#7201a8"
             ],
             [
              0.3333333333333333,
              "#9c179e"
             ],
             [
              0.4444444444444444,
              "#bd3786"
             ],
             [
              0.5555555555555556,
              "#d8576b"
             ],
             [
              0.6666666666666666,
              "#ed7953"
             ],
             [
              0.7777777777777778,
              "#fb9f3a"
             ],
             [
              0.8888888888888888,
              "#fdca26"
             ],
             [
              1,
              "#f0f921"
             ]
            ],
            "type": "heatmapgl"
           }
          ],
          "histogram": [
           {
            "marker": {
             "pattern": {
              "fillmode": "overlay",
              "size": 10,
              "solidity": 0.2
             }
            },
            "type": "histogram"
           }
          ],
          "histogram2d": [
           {
            "colorbar": {
             "outlinewidth": 0,
             "ticks": ""
            },
            "colorscale": [
             [
              0,
              "#0d0887"
             ],
             [
              0.1111111111111111,
              "#46039f"
             ],
             [
              0.2222222222222222,
              "#7201a8"
             ],
             [
              0.3333333333333333,
              "#9c179e"
             ],
             [
              0.4444444444444444,
              "#bd3786"
             ],
             [
              0.5555555555555556,
              "#d8576b"
             ],
             [
              0.6666666666666666,
              "#ed7953"
             ],
             [
              0.7777777777777778,
              "#fb9f3a"
             ],
             [
              0.8888888888888888,
              "#fdca26"
             ],
             [
              1,
              "#f0f921"
             ]
            ],
            "type": "histogram2d"
           }
          ],
          "histogram2dcontour": [
           {
            "colorbar": {
             "outlinewidth": 0,
             "ticks": ""
            },
            "colorscale": [
             [
              0,
              "#0d0887"
             ],
             [
              0.1111111111111111,
              "#46039f"
             ],
             [
              0.2222222222222222,
              "#7201a8"
             ],
             [
              0.3333333333333333,
              "#9c179e"
             ],
             [
              0.4444444444444444,
              "#bd3786"
             ],
             [
              0.5555555555555556,
              "#d8576b"
             ],
             [
              0.6666666666666666,
              "#ed7953"
             ],
             [
              0.7777777777777778,
              "#fb9f3a"
             ],
             [
              0.8888888888888888,
              "#fdca26"
             ],
             [
              1,
              "#f0f921"
             ]
            ],
            "type": "histogram2dcontour"
           }
          ],
          "mesh3d": [
           {
            "colorbar": {
             "outlinewidth": 0,
             "ticks": ""
            },
            "type": "mesh3d"
           }
          ],
          "parcoords": [
           {
            "line": {
             "colorbar": {
              "outlinewidth": 0,
              "ticks": ""
             }
            },
            "type": "parcoords"
           }
          ],
          "pie": [
           {
            "automargin": true,
            "type": "pie"
           }
          ],
          "scatter": [
           {
            "fillpattern": {
             "fillmode": "overlay",
             "size": 10,
             "solidity": 0.2
            },
            "type": "scatter"
           }
          ],
          "scatter3d": [
           {
            "line": {
             "colorbar": {
              "outlinewidth": 0,
              "ticks": ""
             }
            },
            "marker": {
             "colorbar": {
              "outlinewidth": 0,
              "ticks": ""
             }
            },
            "type": "scatter3d"
           }
          ],
          "scattercarpet": [
           {
            "marker": {
             "colorbar": {
              "outlinewidth": 0,
              "ticks": ""
             }
            },
            "type": "scattercarpet"
           }
          ],
          "scattergeo": [
           {
            "marker": {
             "colorbar": {
              "outlinewidth": 0,
              "ticks": ""
             }
            },
            "type": "scattergeo"
           }
          ],
          "scattergl": [
           {
            "marker": {
             "colorbar": {
              "outlinewidth": 0,
              "ticks": ""
             }
            },
            "type": "scattergl"
           }
          ],
          "scattermapbox": [
           {
            "marker": {
             "colorbar": {
              "outlinewidth": 0,
              "ticks": ""
             }
            },
            "type": "scattermapbox"
           }
          ],
          "scatterpolar": [
           {
            "marker": {
             "colorbar": {
              "outlinewidth": 0,
              "ticks": ""
             }
            },
            "type": "scatterpolar"
           }
          ],
          "scatterpolargl": [
           {
            "marker": {
             "colorbar": {
              "outlinewidth": 0,
              "ticks": ""
             }
            },
            "type": "scatterpolargl"
           }
          ],
          "scatterternary": [
           {
            "marker": {
             "colorbar": {
              "outlinewidth": 0,
              "ticks": ""
             }
            },
            "type": "scatterternary"
           }
          ],
          "surface": [
           {
            "colorbar": {
             "outlinewidth": 0,
             "ticks": ""
            },
            "colorscale": [
             [
              0,
              "#0d0887"
             ],
             [
              0.1111111111111111,
              "#46039f"
             ],
             [
              0.2222222222222222,
              "#7201a8"
             ],
             [
              0.3333333333333333,
              "#9c179e"
             ],
             [
              0.4444444444444444,
              "#bd3786"
             ],
             [
              0.5555555555555556,
              "#d8576b"
             ],
             [
              0.6666666666666666,
              "#ed7953"
             ],
             [
              0.7777777777777778,
              "#fb9f3a"
             ],
             [
              0.8888888888888888,
              "#fdca26"
             ],
             [
              1,
              "#f0f921"
             ]
            ],
            "type": "surface"
           }
          ],
          "table": [
           {
            "cells": {
             "fill": {
              "color": "#EBF0F8"
             },
             "line": {
              "color": "white"
             }
            },
            "header": {
             "fill": {
              "color": "#C8D4E3"
             },
             "line": {
              "color": "white"
             }
            },
            "type": "table"
           }
          ]
         },
         "layout": {
          "annotationdefaults": {
           "arrowcolor": "#2a3f5f",
           "arrowhead": 0,
           "arrowwidth": 1
          },
          "autotypenumbers": "strict",
          "coloraxis": {
           "colorbar": {
            "outlinewidth": 0,
            "ticks": ""
           }
          },
          "colorscale": {
           "diverging": [
            [
             0,
             "#8e0152"
            ],
            [
             0.1,
             "#c51b7d"
            ],
            [
             0.2,
             "#de77ae"
            ],
            [
             0.3,
             "#f1b6da"
            ],
            [
             0.4,
             "#fde0ef"
            ],
            [
             0.5,
             "#f7f7f7"
            ],
            [
             0.6,
             "#e6f5d0"
            ],
            [
             0.7,
             "#b8e186"
            ],
            [
             0.8,
             "#7fbc41"
            ],
            [
             0.9,
             "#4d9221"
            ],
            [
             1,
             "#276419"
            ]
           ],
           "sequential": [
            [
             0,
             "#0d0887"
            ],
            [
             0.1111111111111111,
             "#46039f"
            ],
            [
             0.2222222222222222,
             "#7201a8"
            ],
            [
             0.3333333333333333,
             "#9c179e"
            ],
            [
             0.4444444444444444,
             "#bd3786"
            ],
            [
             0.5555555555555556,
             "#d8576b"
            ],
            [
             0.6666666666666666,
             "#ed7953"
            ],
            [
             0.7777777777777778,
             "#fb9f3a"
            ],
            [
             0.8888888888888888,
             "#fdca26"
            ],
            [
             1,
             "#f0f921"
            ]
           ],
           "sequentialminus": [
            [
             0,
             "#0d0887"
            ],
            [
             0.1111111111111111,
             "#46039f"
            ],
            [
             0.2222222222222222,
             "#7201a8"
            ],
            [
             0.3333333333333333,
             "#9c179e"
            ],
            [
             0.4444444444444444,
             "#bd3786"
            ],
            [
             0.5555555555555556,
             "#d8576b"
            ],
            [
             0.6666666666666666,
             "#ed7953"
            ],
            [
             0.7777777777777778,
             "#fb9f3a"
            ],
            [
             0.8888888888888888,
             "#fdca26"
            ],
            [
             1,
             "#f0f921"
            ]
           ]
          },
          "colorway": [
           "#636efa",
           "#EF553B",
           "#00cc96",
           "#ab63fa",
           "#FFA15A",
           "#19d3f3",
           "#FF6692",
           "#B6E880",
           "#FF97FF",
           "#FECB52"
          ],
          "font": {
           "color": "#2a3f5f"
          },
          "geo": {
           "bgcolor": "white",
           "lakecolor": "white",
           "landcolor": "#E5ECF6",
           "showlakes": true,
           "showland": true,
           "subunitcolor": "white"
          },
          "hoverlabel": {
           "align": "left"
          },
          "hovermode": "closest",
          "mapbox": {
           "style": "light"
          },
          "paper_bgcolor": "white",
          "plot_bgcolor": "#E5ECF6",
          "polar": {
           "angularaxis": {
            "gridcolor": "white",
            "linecolor": "white",
            "ticks": ""
           },
           "bgcolor": "#E5ECF6",
           "radialaxis": {
            "gridcolor": "white",
            "linecolor": "white",
            "ticks": ""
           }
          },
          "scene": {
           "xaxis": {
            "backgroundcolor": "#E5ECF6",
            "gridcolor": "white",
            "gridwidth": 2,
            "linecolor": "white",
            "showbackground": true,
            "ticks": "",
            "zerolinecolor": "white"
           },
           "yaxis": {
            "backgroundcolor": "#E5ECF6",
            "gridcolor": "white",
            "gridwidth": 2,
            "linecolor": "white",
            "showbackground": true,
            "ticks": "",
            "zerolinecolor": "white"
           },
           "zaxis": {
            "backgroundcolor": "#E5ECF6",
            "gridcolor": "white",
            "gridwidth": 2,
            "linecolor": "white",
            "showbackground": true,
            "ticks": "",
            "zerolinecolor": "white"
           }
          },
          "shapedefaults": {
           "line": {
            "color": "#2a3f5f"
           }
          },
          "ternary": {
           "aaxis": {
            "gridcolor": "white",
            "linecolor": "white",
            "ticks": ""
           },
           "baxis": {
            "gridcolor": "white",
            "linecolor": "white",
            "ticks": ""
           },
           "bgcolor": "#E5ECF6",
           "caxis": {
            "gridcolor": "white",
            "linecolor": "white",
            "ticks": ""
           }
          },
          "title": {
           "x": 0.05
          },
          "xaxis": {
           "automargin": true,
           "gridcolor": "white",
           "linecolor": "white",
           "ticks": "",
           "title": {
            "standoff": 15
           },
           "zerolinecolor": "white",
           "zerolinewidth": 2
          },
          "yaxis": {
           "automargin": true,
           "gridcolor": "white",
           "linecolor": "white",
           "ticks": "",
           "title": {
            "standoff": 15
           },
           "zerolinecolor": "white",
           "zerolinewidth": 2
          }
         }
        },
        "xaxis": {
         "anchor": "y",
         "domain": [
          0,
          1
         ],
         "title": {
          "text": "index"
         }
        },
        "yaxis": {
         "anchor": "x",
         "domain": [
          0,
          1
         ],
         "range": [
          0,
          110
         ],
         "title": {
          "text": "value"
         }
        }
       }
      },
      "text/html": [
       "<div>                            <div id=\"d29d0087-4971-446c-9197-b17fc51a5deb\" class=\"plotly-graph-div\" style=\"height:525px; width:100%;\"></div>            <script type=\"text/javascript\">                require([\"plotly\"], function(Plotly) {                    window.PLOTLYENV=window.PLOTLYENV || {};                                    if (document.getElementById(\"d29d0087-4971-446c-9197-b17fc51a5deb\")) {                    Plotly.newPlot(                        \"d29d0087-4971-446c-9197-b17fc51a5deb\",                        [{\"hovertemplate\":\"measure=bintocaseratio<br>index=%{x}<br>value=%{y}<extra></extra>\",\"legendgroup\":\"bintocaseratio\",\"line\":{\"color\":\"#636efa\",\"dash\":\"dash\"},\"marker\":{\"symbol\":\"circle\"},\"mode\":\"lines\",\"name\":\"bintocaseratio\",\"orientation\":\"h\",\"showlegend\":true,\"x\":[0,1,2,3,4,5,6,7,8,9,10,11,12,13,14,15,16,17,18,19,20,21,22,23,24,25,26,27,28,29,30,31,32,33,34,35,36,37,38,39,40,41,42,43,44,45,46,47,48,49,50,51,52,53,54,55,56,57,58,59,60,61,62,63,64,65,66,67,68,69,70,71,72,73,74,75,76,77,78,79,80,81,82,83,84,85,86,87,88,89,90,91,92,93,94,95,96,97,98,99],\"xaxis\":\"x\",\"y\":[30.0,30.0,30.0,30.0,50.0,20.0,30.0,50.0,40.0,30.0,40.0,30.0,30.0,40.0,30.0,30.0,30.0,30.0,40.0,30.0,30.0,30.0,30.0,30.0,50.0,40.0,30.0,30.0,20.0,30.0,30.0,30.0,20.0,40.0,20.0,20.0,20.0,30.0,20.0,20.0,20.0,20.0,20.0,20.0,20.0,20.0,30.0,20.0,20.0,30.0,40.0,30.0,30.0,30.0,30.0,30.0,40.0,30.0,20.0,30.0,30.0,30.0,30.0,50.0,30.0,20.0,20.0,30.0,30.0,30.0,40.0,30.0,20.0,40.0,20.0,30.0,20.0,30.0,20.0,30.0,40.0,40.0,20.0,30.0,30.0,40.0,30.0,40.0,40.0,30.0,30.0,40.0,30.0,30.0,30.0,20.0,50.0,40.0,40.0,50.0],\"yaxis\":\"y\",\"type\":\"scatter\"},{\"hovertemplate\":\"measure=binned<br>index=%{x}<br>value=%{y}<extra></extra>\",\"legendgroup\":\"binned\",\"line\":{\"color\":\"#EF553B\",\"dash\":\"solid\"},\"marker\":{\"symbol\":\"circle\"},\"mode\":\"lines\",\"name\":\"binned\",\"orientation\":\"h\",\"showlegend\":true,\"x\":[0,1,2,3,4,5,6,7,8,9,10,11,12,13,14,15,16,17,18,19,20,21,22,23,24,25,26,27,28,29,30,31,32,33,34,35,36,37,38,39,40,41,42,43,44,45,46,47,48,49,50,51,52,53,54,55,56,57,58,59,60,61,62,63,64,65,66,67,68,69,70,71,72,73,74,75,76,77,78,79,80,81,82,83,84,85,86,87,88,89,90,91,92,93,94,95,96,97,98,99],\"xaxis\":\"x\",\"y\":[20.0,90.0,90.0,80.0,100.0,80.0,80.0,80.0,90.0,90.0,70.0,80.0,70.0,100.0,100.0,100.0,80.0,100.0,90.0,100.0,100.0,70.0,90.0,80.0,80.0,100.0,90.0,10.0,70.0,90.0,90.0,50.0,100.0,90.0,100.0,90.0,80.0,90.0,100.0,90.0,10.0,100.0,100.0,90.0,100.0,90.0,90.0,90.0,70.0,80.0,70.0,100.0,100.0,100.0,100.0,100.0,100.0,100.0,100.0,100.0,100.0,100.0,100.0,100.0,100.0,20.0,60.0,100.0,100.0,100.0,100.0,100.0,70.0,100.0,80.0,100.0,60.0,100.0,30.0,80.0,90.0,90.0,100.0,80.0,20.0,100.0,40.0,100.0,100.0,100.0,100.0,80.0,100.0,100.0,90.0,70.0,50.0,100.0,60.0,80.0],\"yaxis\":\"y\",\"type\":\"scatter\"},{\"hovertemplate\":\"measure=util<br>index=%{x}<br>value=%{y}<extra></extra>\",\"legendgroup\":\"util\",\"line\":{\"color\":\"#00cc96\",\"dash\":\"solid\"},\"marker\":{\"symbol\":\"circle\"},\"mode\":\"lines\",\"name\":\"util\",\"orientation\":\"h\",\"showlegend\":true,\"x\":[0,1,2,3,4,5,6,7,8,9,10,11,12,13,14,15,16,17,18,19,20,21,22,23,24,25,26,27,28,29,30,31,32,33,34,35,36,37,38,39,40,41,42,43,44,45,46,47,48,49,50,51,52,53,54,55,56,57,58,59,60,61,62,63,64,65,66,67,68,69,70,71,72,73,74,75,76,77,78,79,80,81,82,83,84,85,86,87,88,89,90,91,92,93,94,95,96,97,98,99],\"xaxis\":\"x\",\"y\":[73.00884955752213,62.934239592183516,52.87409903068128,60.44928522804628,61.093021004743,48.50278232405893,56.04729250413809,67.89813599369913,63.03600847258177,66.95874822190612,51.0901287553648,67.92283758556317,61.793103448275865,48.49655172413794,41.11448275862069,42.70344827586207,60.52959693846059,51.477844311377254,58.75181169291125,55.58871625241677,43.74074074074073,48.252981969486825,62.954773869346745,59.97859788722734,53.893182117895286,64.73235855054035,51.919516376432384,72.0,63.06666666666667,55.53965785381026,61.66423357664234,62.233766233766254,58.10526315789474,44.28270676691731,55.29572540918481,43.90562613430127,51.92899408284024,48.857142857142854,46.080000000000005,56.795939086294425,59.61038961038961,50.25042364903031,42.86925795053004,58.289085545722706,48.90225563909775,58.11840599313287,52.00643826166935,50.87499999999999,56.672993075147474,56.671700664938584,50.97435897435898,60.16411906677395,47.32915662650603,44.94205354117249,43.48283518360376,48.18767249310029,51.40759334797615,45.40554425773307,45.667844522968196,45.13027061044682,54.117647058823536,58.37737789203086,65.84924623115577,53.92931450223906,48.365880217785836,69.79479326186832,58.82352941176471,52.10479485912012,60.13638980701567,59.56638871071199,56.838427947598255,48.55578702582238,50.555956678700376,60.96842105263157,55.342897392404346,55.253380312706454,54.89278752436647,49.83356070941337,54.34541577825159,59.8033802090053,48.91619445272889,60.57798797006291,61.03336921420885,47.60569024243639,91.0162940507768,50.914285714285725,58.52216748768474,63.950173780063956,60.90539059148754,66.59082908754053,62.23478459083657,45.8,46.048351648351655,44.246616541353376,60.907519446845306,61.97767564018385,63.935025380710655,58.13357000221877,67.41439205955336,60.163064141378584],\"yaxis\":\"y\",\"type\":\"scatter\"},{\"hovertemplate\":\"measure=caseminp<br>index=%{x}<br>value=%{y}<extra></extra>\",\"legendgroup\":\"caseminp\",\"line\":{\"color\":\"#ab63fa\",\"dash\":\"dot\"},\"marker\":{\"symbol\":\"circle\"},\"mode\":\"lines\",\"name\":\"caseminp\",\"orientation\":\"h\",\"showlegend\":true,\"x\":[0,1,2,3,4,5,6,7,8,9,10,11,12,13,14,15,16,17,18,19,20,21,22,23,24,25,26,27,28,29,30,31,32,33,34,35,36,37,38,39,40,41,42,43,44,45,46,47,48,49,50,51,52,53,54,55,56,57,58,59,60,61,62,63,64,65,66,67,68,69,70,71,72,73,74,75,76,77,78,79,80,81,82,83,84,85,86,87,88,89,90,91,92,93,94,95,96,97,98,99],\"xaxis\":\"x\",\"y\":[20.0,10.0,10.0,20.0,10.0,10.0,20.0,20.0,10.0,10.0,10.0,10.0,20.0,20.0,20.0,20.0,10.0,40.0,10.0,10.0,20.0,10.0,10.0,10.0,10.0,10.0,10.0,10.0,30.0,10.0,10.0,10.0,30.0,10.0,10.0,10.0,20.0,10.0,100.0,10.0,10.0,10.0,20.0,10.0,100.0,10.0,10.0,10.0,10.0,20.0,10.0,30.0,50.0,30.0,10.0,10.0,10.0,10.0,20.0,20.0,30.0,10.0,20.0,30.0,100.0,10.0,20.0,10.0,50.0,30.0,40.0,10.0,20.0,100.0,10.0,10.0,40.0,10.0,10.0,20.0,10.0,10.0,40.0,10.0,20.0,20.0,40.0,10.0,10.0,10.0,20.0,20.0,20.0,10.0,10.0,20.0,10.0,10.0,20.0,10.0],\"yaxis\":\"y\",\"type\":\"scatter\"},{\"hovertemplate\":\"measure=casemedp<br>index=%{x}<br>value=%{y}<extra></extra>\",\"legendgroup\":\"casemedp\",\"line\":{\"color\":\"#FFA15A\",\"dash\":\"dot\"},\"marker\":{\"symbol\":\"circle\"},\"mode\":\"lines\",\"name\":\"casemedp\",\"orientation\":\"h\",\"showlegend\":true,\"x\":[0,1,2,3,4,5,6,7,8,9,10,11,12,13,14,15,16,17,18,19,20,21,22,23,24,25,26,27,28,29,30,31,32,33,34,35,36,37,38,39,40,41,42,43,44,45,46,47,48,49,50,51,52,53,54,55,56,57,58,59,60,61,62,63,64,65,66,67,68,69,70,71,72,73,74,75,76,77,78,79,80,81,82,83,84,85,86,87,88,89,90,91,92,93,94,95,96,97,98,99],\"xaxis\":\"x\",\"y\":[10.0,15.0,15.0,20.0,10.0,20.0,25.0,20.0,20.0,25.0,10.0,25.0,25.0,0.0,10.0,10.0,20.0,20.0,20.0,20.0,10.0,20.0,15.0,20.0,20.0,10.0,15.0,5.0,30.0,20.0,20.0,25.0,30.0,0.0,10.0,40.0,30.0,10.0,0.0,10.0,10.0,10.0,20.0,40.0,0.0,20.0,10.0,10.0,30.0,20.0,10.0,15.0,25.0,30.0,20.0,25.0,10.0,5.0,20.0,30.0,30.0,15.0,25.0,0.0,0.0,10.0,40.0,20.0,25.0,15.0,0.0,5.0,30.0,0.0,20.0,5.0,40.0,5.0,20.0,20.0,10.0,10.0,40.0,15.0,10.0,0.0,20.0,20.0,10.0,20.0,25.0,0.0,10.0,15.0,10.0,30.0,15.0,10.0,20.0,20.0],\"yaxis\":\"y\",\"type\":\"scatter\"},{\"hovertemplate\":\"measure=casemaxp<br>index=%{x}<br>value=%{y}<extra></extra>\",\"legendgroup\":\"casemaxp\",\"line\":{\"color\":\"#19d3f3\",\"dash\":\"dot\"},\"marker\":{\"symbol\":\"circle\"},\"mode\":\"lines\",\"name\":\"casemaxp\",\"orientation\":\"h\",\"showlegend\":true,\"x\":[0,1,2,3,4,5,6,7,8,9,10,11,12,13,14,15,16,17,18,19,20,21,22,23,24,25,26,27,28,29,30,31,32,33,34,35,36,37,38,39,40,41,42,43,44,45,46,47,48,49,50,51,52,53,54,55,56,57,58,59,60,61,62,63,64,65,66,67,68,69,70,71,72,73,74,75,76,77,78,79,80,81,82,83,84,85,86,87,88,89,90,91,92,93,94,95,96,97,98,99],\"xaxis\":\"x\",\"y\":[80.0,60.0,70.0,40.0,50.0,70.0,30.0,30.0,30.0,40.0,60.0,40.0,50.0,80.0,80.0,80.0,50.0,60.0,40.0,60.0,80.0,60.0,70.0,50.0,30.0,50.0,60.0,90.0,40.0,50.0,60.0,50.0,70.0,90.0,90.0,50.0,50.0,80.0,100.0,80.0,90.0,90.0,80.0,50.0,100.0,70.0,70.0,80.0,60.0,60.0,60.0,70.0,50.0,40.0,60.0,50.0,70.0,90.0,80.0,40.0,40.0,70.0,50.0,70.0,100.0,80.0,40.0,60.0,50.0,70.0,60.0,90.0,50.0,100.0,70.0,90.0,60.0,90.0,70.0,40.0,60.0,70.0,60.0,70.0,80.0,80.0,60.0,40.0,60.0,60.0,50.0,80.0,80.0,70.0,80.0,50.0,50.0,40.0,40.0,20.0],\"yaxis\":\"y\",\"type\":\"scatter\"}],                        {\"template\":{\"data\":{\"histogram2dcontour\":[{\"type\":\"histogram2dcontour\",\"colorbar\":{\"outlinewidth\":0,\"ticks\":\"\"},\"colorscale\":[[0.0,\"#0d0887\"],[0.1111111111111111,\"#46039f\"],[0.2222222222222222,\"#7201a8\"],[0.3333333333333333,\"#9c179e\"],[0.4444444444444444,\"#bd3786\"],[0.5555555555555556,\"#d8576b\"],[0.6666666666666666,\"#ed7953\"],[0.7777777777777778,\"#fb9f3a\"],[0.8888888888888888,\"#fdca26\"],[1.0,\"#f0f921\"]]}],\"choropleth\":[{\"type\":\"choropleth\",\"colorbar\":{\"outlinewidth\":0,\"ticks\":\"\"}}],\"histogram2d\":[{\"type\":\"histogram2d\",\"colorbar\":{\"outlinewidth\":0,\"ticks\":\"\"},\"colorscale\":[[0.0,\"#0d0887\"],[0.1111111111111111,\"#46039f\"],[0.2222222222222222,\"#7201a8\"],[0.3333333333333333,\"#9c179e\"],[0.4444444444444444,\"#bd3786\"],[0.5555555555555556,\"#d8576b\"],[0.6666666666666666,\"#ed7953\"],[0.7777777777777778,\"#fb9f3a\"],[0.8888888888888888,\"#fdca26\"],[1.0,\"#f0f921\"]]}],\"heatmap\":[{\"type\":\"heatmap\",\"colorbar\":{\"outlinewidth\":0,\"ticks\":\"\"},\"colorscale\":[[0.0,\"#0d0887\"],[0.1111111111111111,\"#46039f\"],[0.2222222222222222,\"#7201a8\"],[0.3333333333333333,\"#9c179e\"],[0.4444444444444444,\"#bd3786\"],[0.5555555555555556,\"#d8576b\"],[0.6666666666666666,\"#ed7953\"],[0.7777777777777778,\"#fb9f3a\"],[0.8888888888888888,\"#fdca26\"],[1.0,\"#f0f921\"]]}],\"heatmapgl\":[{\"type\":\"heatmapgl\",\"colorbar\":{\"outlinewidth\":0,\"ticks\":\"\"},\"colorscale\":[[0.0,\"#0d0887\"],[0.1111111111111111,\"#46039f\"],[0.2222222222222222,\"#7201a8\"],[0.3333333333333333,\"#9c179e\"],[0.4444444444444444,\"#bd3786\"],[0.5555555555555556,\"#d8576b\"],[0.6666666666666666,\"#ed7953\"],[0.7777777777777778,\"#fb9f3a\"],[0.8888888888888888,\"#fdca26\"],[1.0,\"#f0f921\"]]}],\"contourcarpet\":[{\"type\":\"contourcarpet\",\"colorbar\":{\"outlinewidth\":0,\"ticks\":\"\"}}],\"contour\":[{\"type\":\"contour\",\"colorbar\":{\"outlinewidth\":0,\"ticks\":\"\"},\"colorscale\":[[0.0,\"#0d0887\"],[0.1111111111111111,\"#46039f\"],[0.2222222222222222,\"#7201a8\"],[0.3333333333333333,\"#9c179e\"],[0.4444444444444444,\"#bd3786\"],[0.5555555555555556,\"#d8576b\"],[0.6666666666666666,\"#ed7953\"],[0.7777777777777778,\"#fb9f3a\"],[0.8888888888888888,\"#fdca26\"],[1.0,\"#f0f921\"]]}],\"surface\":[{\"type\":\"surface\",\"colorbar\":{\"outlinewidth\":0,\"ticks\":\"\"},\"colorscale\":[[0.0,\"#0d0887\"],[0.1111111111111111,\"#46039f\"],[0.2222222222222222,\"#7201a8\"],[0.3333333333333333,\"#9c179e\"],[0.4444444444444444,\"#bd3786\"],[0.5555555555555556,\"#d8576b\"],[0.6666666666666666,\"#ed7953\"],[0.7777777777777778,\"#fb9f3a\"],[0.8888888888888888,\"#fdca26\"],[1.0,\"#f0f921\"]]}],\"mesh3d\":[{\"type\":\"mesh3d\",\"colorbar\":{\"outlinewidth\":0,\"ticks\":\"\"}}],\"scatter\":[{\"fillpattern\":{\"fillmode\":\"overlay\",\"size\":10,\"solidity\":0.2},\"type\":\"scatter\"}],\"parcoords\":[{\"type\":\"parcoords\",\"line\":{\"colorbar\":{\"outlinewidth\":0,\"ticks\":\"\"}}}],\"scatterpolargl\":[{\"type\":\"scatterpolargl\",\"marker\":{\"colorbar\":{\"outlinewidth\":0,\"ticks\":\"\"}}}],\"bar\":[{\"error_x\":{\"color\":\"#2a3f5f\"},\"error_y\":{\"color\":\"#2a3f5f\"},\"marker\":{\"line\":{\"color\":\"#E5ECF6\",\"width\":0.5},\"pattern\":{\"fillmode\":\"overlay\",\"size\":10,\"solidity\":0.2}},\"type\":\"bar\"}],\"scattergeo\":[{\"type\":\"scattergeo\",\"marker\":{\"colorbar\":{\"outlinewidth\":0,\"ticks\":\"\"}}}],\"scatterpolar\":[{\"type\":\"scatterpolar\",\"marker\":{\"colorbar\":{\"outlinewidth\":0,\"ticks\":\"\"}}}],\"histogram\":[{\"marker\":{\"pattern\":{\"fillmode\":\"overlay\",\"size\":10,\"solidity\":0.2}},\"type\":\"histogram\"}],\"scattergl\":[{\"type\":\"scattergl\",\"marker\":{\"colorbar\":{\"outlinewidth\":0,\"ticks\":\"\"}}}],\"scatter3d\":[{\"type\":\"scatter3d\",\"line\":{\"colorbar\":{\"outlinewidth\":0,\"ticks\":\"\"}},\"marker\":{\"colorbar\":{\"outlinewidth\":0,\"ticks\":\"\"}}}],\"scattermapbox\":[{\"type\":\"scattermapbox\",\"marker\":{\"colorbar\":{\"outlinewidth\":0,\"ticks\":\"\"}}}],\"scatterternary\":[{\"type\":\"scatterternary\",\"marker\":{\"colorbar\":{\"outlinewidth\":0,\"ticks\":\"\"}}}],\"scattercarpet\":[{\"type\":\"scattercarpet\",\"marker\":{\"colorbar\":{\"outlinewidth\":0,\"ticks\":\"\"}}}],\"carpet\":[{\"aaxis\":{\"endlinecolor\":\"#2a3f5f\",\"gridcolor\":\"white\",\"linecolor\":\"white\",\"minorgridcolor\":\"white\",\"startlinecolor\":\"#2a3f5f\"},\"baxis\":{\"endlinecolor\":\"#2a3f5f\",\"gridcolor\":\"white\",\"linecolor\":\"white\",\"minorgridcolor\":\"white\",\"startlinecolor\":\"#2a3f5f\"},\"type\":\"carpet\"}],\"table\":[{\"cells\":{\"fill\":{\"color\":\"#EBF0F8\"},\"line\":{\"color\":\"white\"}},\"header\":{\"fill\":{\"color\":\"#C8D4E3\"},\"line\":{\"color\":\"white\"}},\"type\":\"table\"}],\"barpolar\":[{\"marker\":{\"line\":{\"color\":\"#E5ECF6\",\"width\":0.5},\"pattern\":{\"fillmode\":\"overlay\",\"size\":10,\"solidity\":0.2}},\"type\":\"barpolar\"}],\"pie\":[{\"automargin\":true,\"type\":\"pie\"}]},\"layout\":{\"autotypenumbers\":\"strict\",\"colorway\":[\"#636efa\",\"#EF553B\",\"#00cc96\",\"#ab63fa\",\"#FFA15A\",\"#19d3f3\",\"#FF6692\",\"#B6E880\",\"#FF97FF\",\"#FECB52\"],\"font\":{\"color\":\"#2a3f5f\"},\"hovermode\":\"closest\",\"hoverlabel\":{\"align\":\"left\"},\"paper_bgcolor\":\"white\",\"plot_bgcolor\":\"#E5ECF6\",\"polar\":{\"bgcolor\":\"#E5ECF6\",\"angularaxis\":{\"gridcolor\":\"white\",\"linecolor\":\"white\",\"ticks\":\"\"},\"radialaxis\":{\"gridcolor\":\"white\",\"linecolor\":\"white\",\"ticks\":\"\"}},\"ternary\":{\"bgcolor\":\"#E5ECF6\",\"aaxis\":{\"gridcolor\":\"white\",\"linecolor\":\"white\",\"ticks\":\"\"},\"baxis\":{\"gridcolor\":\"white\",\"linecolor\":\"white\",\"ticks\":\"\"},\"caxis\":{\"gridcolor\":\"white\",\"linecolor\":\"white\",\"ticks\":\"\"}},\"coloraxis\":{\"colorbar\":{\"outlinewidth\":0,\"ticks\":\"\"}},\"colorscale\":{\"sequential\":[[0.0,\"#0d0887\"],[0.1111111111111111,\"#46039f\"],[0.2222222222222222,\"#7201a8\"],[0.3333333333333333,\"#9c179e\"],[0.4444444444444444,\"#bd3786\"],[0.5555555555555556,\"#d8576b\"],[0.6666666666666666,\"#ed7953\"],[0.7777777777777778,\"#fb9f3a\"],[0.8888888888888888,\"#fdca26\"],[1.0,\"#f0f921\"]],\"sequentialminus\":[[0.0,\"#0d0887\"],[0.1111111111111111,\"#46039f\"],[0.2222222222222222,\"#7201a8\"],[0.3333333333333333,\"#9c179e\"],[0.4444444444444444,\"#bd3786\"],[0.5555555555555556,\"#d8576b\"],[0.6666666666666666,\"#ed7953\"],[0.7777777777777778,\"#fb9f3a\"],[0.8888888888888888,\"#fdca26\"],[1.0,\"#f0f921\"]],\"diverging\":[[0,\"#8e0152\"],[0.1,\"#c51b7d\"],[0.2,\"#de77ae\"],[0.3,\"#f1b6da\"],[0.4,\"#fde0ef\"],[0.5,\"#f7f7f7\"],[0.6,\"#e6f5d0\"],[0.7,\"#b8e186\"],[0.8,\"#7fbc41\"],[0.9,\"#4d9221\"],[1,\"#276419\"]]},\"xaxis\":{\"gridcolor\":\"white\",\"linecolor\":\"white\",\"ticks\":\"\",\"title\":{\"standoff\":15},\"zerolinecolor\":\"white\",\"automargin\":true,\"zerolinewidth\":2},\"yaxis\":{\"gridcolor\":\"white\",\"linecolor\":\"white\",\"ticks\":\"\",\"title\":{\"standoff\":15},\"zerolinecolor\":\"white\",\"automargin\":true,\"zerolinewidth\":2},\"scene\":{\"xaxis\":{\"backgroundcolor\":\"#E5ECF6\",\"gridcolor\":\"white\",\"linecolor\":\"white\",\"showbackground\":true,\"ticks\":\"\",\"zerolinecolor\":\"white\",\"gridwidth\":2},\"yaxis\":{\"backgroundcolor\":\"#E5ECF6\",\"gridcolor\":\"white\",\"linecolor\":\"white\",\"showbackground\":true,\"ticks\":\"\",\"zerolinecolor\":\"white\",\"gridwidth\":2},\"zaxis\":{\"backgroundcolor\":\"#E5ECF6\",\"gridcolor\":\"white\",\"linecolor\":\"white\",\"showbackground\":true,\"ticks\":\"\",\"zerolinecolor\":\"white\",\"gridwidth\":2}},\"shapedefaults\":{\"line\":{\"color\":\"#2a3f5f\"}},\"annotationdefaults\":{\"arrowcolor\":\"#2a3f5f\",\"arrowhead\":0,\"arrowwidth\":1},\"geo\":{\"bgcolor\":\"white\",\"landcolor\":\"#E5ECF6\",\"subunitcolor\":\"white\",\"showland\":true,\"showlakes\":true,\"lakecolor\":\"white\"},\"title\":{\"x\":0.05},\"mapbox\":{\"style\":\"light\"}}},\"xaxis\":{\"anchor\":\"y\",\"domain\":[0.0,1.0],\"title\":{\"text\":\"index\"}},\"yaxis\":{\"anchor\":\"x\",\"domain\":[0.0,1.0],\"title\":{\"text\":\"value\"},\"range\":[0,110]},\"legend\":{\"title\":{\"text\":\"measure\"},\"tracegroupgap\":0},\"margin\":{\"t\":60},\"shapes\":[{\"line\":{\"dash\":\"dot\"},\"type\":\"line\",\"x0\":0,\"x1\":1,\"xref\":\"x domain\",\"y0\":100,\"y1\":100,\"yref\":\"y\"}]},                        {\"responsive\": true}                    ).then(function(){\n",
       "                            \n",
       "var gd = document.getElementById('d29d0087-4971-446c-9197-b17fc51a5deb');\n",
       "var x = new MutationObserver(function (mutations, observer) {{\n",
       "        var display = window.getComputedStyle(gd).display;\n",
       "        if (!display || display === 'none') {{\n",
       "            console.log([gd, 'removed!']);\n",
       "            Plotly.purge(gd);\n",
       "            observer.disconnect();\n",
       "        }}\n",
       "}});\n",
       "\n",
       "// Listen for the removal of the full notebook cells\n",
       "var notebookContainer = gd.closest('#notebook-container');\n",
       "if (notebookContainer) {{\n",
       "    x.observe(notebookContainer, {childList: true});\n",
       "}}\n",
       "\n",
       "// Listen for the clearing of the current output cell\n",
       "var outputEl = gd.closest('.output');\n",
       "if (outputEl) {{\n",
       "    x.observe(outputEl, {childList: true});\n",
       "}}\n",
       "\n",
       "                        })                };                });            </script>        </div>"
      ]
     },
     "metadata": {},
     "output_type": "display_data"
    }
   ],
   "source": [
    "# melt results for plot    \n",
    "results_melt = pd.melt(results.reset_index(), id_vars='index', var_name='measure')   \n",
    "\n",
    "dashmap = dict(zip(['bintocaseratio','binned','util','caseminp','casemedp','casemaxp'],\n",
    "                   ['dash','solid','solid','dot','dot','dot']))\n",
    "\n",
    "fig = px.line(results_melt, \n",
    "              x='index', y='value', color='measure', line_dash='measure',\n",
    "              line_dash_map=dashmap)\n",
    "fig.add_hline(y=100, line_dash='dot')\n",
    "fig.update_yaxes(range = [0,110])\n",
    "fig.show()"
   ]
  },
  {
   "cell_type": "code",
   "execution_count": 297,
   "id": "3161f11a",
   "metadata": {
    "scrolled": false
   },
   "outputs": [
    {
     "ename": "KeyError",
     "evalue": "'binID'",
     "output_type": "error",
     "traceback": [
      "\u001b[0;31m---------------------------------------------------------------------------\u001b[0m",
      "\u001b[0;31mKeyError\u001b[0m                                  Traceback (most recent call last)",
      "Cell \u001b[0;32mIn[297], line 9\u001b[0m\n\u001b[1;32m      6\u001b[0m bh \u001b[38;5;241m=\u001b[39m [\u001b[38;5;241m-\u001b[39mh \u001b[38;5;28;01mfor\u001b[39;00m h \u001b[38;5;129;01min\u001b[39;00m bh]\n\u001b[1;32m      7\u001b[0m catchbin \u001b[38;5;241m=\u001b[39m binG\u001b[38;5;241m.\u001b[39mindex\u001b[38;5;241m.\u001b[39mmax()\n\u001b[0;32m----> 9\u001b[0m cases \u001b[38;5;241m=\u001b[39m \u001b[43mcasePOP\u001b[49m\u001b[38;5;241;43m.\u001b[39;49m\u001b[43msort_values\u001b[49m\u001b[43m(\u001b[49m\u001b[43m[\u001b[49m\u001b[38;5;124;43m'\u001b[39;49m\u001b[38;5;124;43mbinID\u001b[39;49m\u001b[38;5;124;43m'\u001b[39;49m\u001b[43m,\u001b[49m\u001b[38;5;124;43m'\u001b[39;49m\u001b[38;5;124;43mL\u001b[39;49m\u001b[38;5;124;43m'\u001b[39;49m\u001b[43m,\u001b[49m\u001b[38;5;124;43m'\u001b[39;49m\u001b[38;5;124;43mW\u001b[39;49m\u001b[38;5;124;43m'\u001b[39;49m\u001b[43m,\u001b[49m\u001b[38;5;124;43m'\u001b[39;49m\u001b[38;5;124;43mH\u001b[39;49m\u001b[38;5;124;43m'\u001b[39;49m\u001b[43m]\u001b[49m\u001b[43m)\u001b[49m\n\u001b[1;32m     10\u001b[0m ci \u001b[38;5;241m=\u001b[39m cases\u001b[38;5;241m.\u001b[39mcaseID\n\u001b[1;32m     11\u001b[0m cl \u001b[38;5;241m=\u001b[39m cases\u001b[38;5;241m.\u001b[39mL\n",
      "File \u001b[0;32m~/anaconda3/lib/python3.10/site-packages/pandas/util/_decorators.py:331\u001b[0m, in \u001b[0;36mdeprecate_nonkeyword_arguments.<locals>.decorate.<locals>.wrapper\u001b[0;34m(*args, **kwargs)\u001b[0m\n\u001b[1;32m    325\u001b[0m \u001b[38;5;28;01mif\u001b[39;00m \u001b[38;5;28mlen\u001b[39m(args) \u001b[38;5;241m>\u001b[39m num_allow_args:\n\u001b[1;32m    326\u001b[0m     warnings\u001b[38;5;241m.\u001b[39mwarn(\n\u001b[1;32m    327\u001b[0m         msg\u001b[38;5;241m.\u001b[39mformat(arguments\u001b[38;5;241m=\u001b[39m_format_argument_list(allow_args)),\n\u001b[1;32m    328\u001b[0m         \u001b[38;5;167;01mFutureWarning\u001b[39;00m,\n\u001b[1;32m    329\u001b[0m         stacklevel\u001b[38;5;241m=\u001b[39mfind_stack_level(),\n\u001b[1;32m    330\u001b[0m     )\n\u001b[0;32m--> 331\u001b[0m \u001b[38;5;28;01mreturn\u001b[39;00m \u001b[43mfunc\u001b[49m\u001b[43m(\u001b[49m\u001b[38;5;241;43m*\u001b[39;49m\u001b[43margs\u001b[49m\u001b[43m,\u001b[49m\u001b[43m \u001b[49m\u001b[38;5;241;43m*\u001b[39;49m\u001b[38;5;241;43m*\u001b[39;49m\u001b[43mkwargs\u001b[49m\u001b[43m)\u001b[49m\n",
      "File \u001b[0;32m~/anaconda3/lib/python3.10/site-packages/pandas/core/frame.py:6894\u001b[0m, in \u001b[0;36mDataFrame.sort_values\u001b[0;34m(self, by, axis, ascending, inplace, kind, na_position, ignore_index, key)\u001b[0m\n\u001b[1;32m   6888\u001b[0m     \u001b[38;5;28;01mraise\u001b[39;00m \u001b[38;5;167;01mValueError\u001b[39;00m(\n\u001b[1;32m   6889\u001b[0m         \u001b[38;5;124mf\u001b[39m\u001b[38;5;124m\"\u001b[39m\u001b[38;5;124mLength of ascending (\u001b[39m\u001b[38;5;132;01m{\u001b[39;00m\u001b[38;5;28mlen\u001b[39m(ascending)\u001b[38;5;132;01m}\u001b[39;00m\u001b[38;5;124m)\u001b[39m\u001b[38;5;124m\"\u001b[39m  \u001b[38;5;66;03m# type: ignore[arg-type]\u001b[39;00m\n\u001b[1;32m   6890\u001b[0m         \u001b[38;5;124mf\u001b[39m\u001b[38;5;124m\"\u001b[39m\u001b[38;5;124m != length of by (\u001b[39m\u001b[38;5;132;01m{\u001b[39;00m\u001b[38;5;28mlen\u001b[39m(by)\u001b[38;5;132;01m}\u001b[39;00m\u001b[38;5;124m)\u001b[39m\u001b[38;5;124m\"\u001b[39m\n\u001b[1;32m   6891\u001b[0m     )\n\u001b[1;32m   6892\u001b[0m \u001b[38;5;28;01mif\u001b[39;00m \u001b[38;5;28mlen\u001b[39m(by) \u001b[38;5;241m>\u001b[39m \u001b[38;5;241m1\u001b[39m:\n\u001b[0;32m-> 6894\u001b[0m     keys \u001b[38;5;241m=\u001b[39m [\u001b[38;5;28mself\u001b[39m\u001b[38;5;241m.\u001b[39m_get_label_or_level_values(x, axis\u001b[38;5;241m=\u001b[39maxis) \u001b[38;5;28;01mfor\u001b[39;00m x \u001b[38;5;129;01min\u001b[39;00m by]\n\u001b[1;32m   6896\u001b[0m     \u001b[38;5;66;03m# need to rewrap columns in Series to apply key function\u001b[39;00m\n\u001b[1;32m   6897\u001b[0m     \u001b[38;5;28;01mif\u001b[39;00m key \u001b[38;5;129;01mis\u001b[39;00m \u001b[38;5;129;01mnot\u001b[39;00m \u001b[38;5;28;01mNone\u001b[39;00m:\n\u001b[1;32m   6898\u001b[0m         \u001b[38;5;66;03m# error: List comprehension has incompatible type List[Series];\u001b[39;00m\n\u001b[1;32m   6899\u001b[0m         \u001b[38;5;66;03m# expected List[ndarray]\u001b[39;00m\n",
      "File \u001b[0;32m~/anaconda3/lib/python3.10/site-packages/pandas/core/frame.py:6894\u001b[0m, in \u001b[0;36m<listcomp>\u001b[0;34m(.0)\u001b[0m\n\u001b[1;32m   6888\u001b[0m     \u001b[38;5;28;01mraise\u001b[39;00m \u001b[38;5;167;01mValueError\u001b[39;00m(\n\u001b[1;32m   6889\u001b[0m         \u001b[38;5;124mf\u001b[39m\u001b[38;5;124m\"\u001b[39m\u001b[38;5;124mLength of ascending (\u001b[39m\u001b[38;5;132;01m{\u001b[39;00m\u001b[38;5;28mlen\u001b[39m(ascending)\u001b[38;5;132;01m}\u001b[39;00m\u001b[38;5;124m)\u001b[39m\u001b[38;5;124m\"\u001b[39m  \u001b[38;5;66;03m# type: ignore[arg-type]\u001b[39;00m\n\u001b[1;32m   6890\u001b[0m         \u001b[38;5;124mf\u001b[39m\u001b[38;5;124m\"\u001b[39m\u001b[38;5;124m != length of by (\u001b[39m\u001b[38;5;132;01m{\u001b[39;00m\u001b[38;5;28mlen\u001b[39m(by)\u001b[38;5;132;01m}\u001b[39;00m\u001b[38;5;124m)\u001b[39m\u001b[38;5;124m\"\u001b[39m\n\u001b[1;32m   6891\u001b[0m     )\n\u001b[1;32m   6892\u001b[0m \u001b[38;5;28;01mif\u001b[39;00m \u001b[38;5;28mlen\u001b[39m(by) \u001b[38;5;241m>\u001b[39m \u001b[38;5;241m1\u001b[39m:\n\u001b[0;32m-> 6894\u001b[0m     keys \u001b[38;5;241m=\u001b[39m [\u001b[38;5;28;43mself\u001b[39;49m\u001b[38;5;241;43m.\u001b[39;49m\u001b[43m_get_label_or_level_values\u001b[49m\u001b[43m(\u001b[49m\u001b[43mx\u001b[49m\u001b[43m,\u001b[49m\u001b[43m \u001b[49m\u001b[43maxis\u001b[49m\u001b[38;5;241;43m=\u001b[39;49m\u001b[43maxis\u001b[49m\u001b[43m)\u001b[49m \u001b[38;5;28;01mfor\u001b[39;00m x \u001b[38;5;129;01min\u001b[39;00m by]\n\u001b[1;32m   6896\u001b[0m     \u001b[38;5;66;03m# need to rewrap columns in Series to apply key function\u001b[39;00m\n\u001b[1;32m   6897\u001b[0m     \u001b[38;5;28;01mif\u001b[39;00m key \u001b[38;5;129;01mis\u001b[39;00m \u001b[38;5;129;01mnot\u001b[39;00m \u001b[38;5;28;01mNone\u001b[39;00m:\n\u001b[1;32m   6898\u001b[0m         \u001b[38;5;66;03m# error: List comprehension has incompatible type List[Series];\u001b[39;00m\n\u001b[1;32m   6899\u001b[0m         \u001b[38;5;66;03m# expected List[ndarray]\u001b[39;00m\n",
      "File \u001b[0;32m~/anaconda3/lib/python3.10/site-packages/pandas/core/generic.py:1850\u001b[0m, in \u001b[0;36mNDFrame._get_label_or_level_values\u001b[0;34m(self, key, axis)\u001b[0m\n\u001b[1;32m   1844\u001b[0m     values \u001b[38;5;241m=\u001b[39m (\n\u001b[1;32m   1845\u001b[0m         \u001b[38;5;28mself\u001b[39m\u001b[38;5;241m.\u001b[39maxes[axis]\n\u001b[1;32m   1846\u001b[0m         \u001b[38;5;241m.\u001b[39mget_level_values(key)  \u001b[38;5;66;03m# type: ignore[assignment]\u001b[39;00m\n\u001b[1;32m   1847\u001b[0m         \u001b[38;5;241m.\u001b[39m_values\n\u001b[1;32m   1848\u001b[0m     )\n\u001b[1;32m   1849\u001b[0m \u001b[38;5;28;01melse\u001b[39;00m:\n\u001b[0;32m-> 1850\u001b[0m     \u001b[38;5;28;01mraise\u001b[39;00m \u001b[38;5;167;01mKeyError\u001b[39;00m(key)\n\u001b[1;32m   1852\u001b[0m \u001b[38;5;66;03m# Check for duplicates\u001b[39;00m\n\u001b[1;32m   1853\u001b[0m \u001b[38;5;28;01mif\u001b[39;00m values\u001b[38;5;241m.\u001b[39mndim \u001b[38;5;241m>\u001b[39m \u001b[38;5;241m1\u001b[39m:\n",
      "\u001b[0;31mKeyError\u001b[0m: 'binID'"
     ]
    }
   ],
   "source": [
    "binG = binhistory[generations-1]\n",
    "bi = repeater(binG.index,binG.cases)\n",
    "bl = repeater(binG.L,binG.cases)\n",
    "bw = repeater(binG.W,binG.cases)\n",
    "bh = repeater(binG.H,binG.cases)\n",
    "bh = [-h for h in bh]\n",
    "catchbin = binG.index.max()\n",
    "\n",
    "cases = casePOP.sort_values(['binID','L','W','H'])\n",
    "ci = cases.caseID\n",
    "cl = cases.L\n",
    "cw = cases.W\n",
    "ch = cases.H\n",
    "ch =[-h for h in ch]\n",
    "casecolor = ['orange' if bi==catchbin else 'cornflowerblue' for bi in cases.binID]\n",
    "\n",
    "xticks=[]\n",
    "w = bw + [w for (w,b) in zip(cases.W,cases.binID) if b==catchbin]\n",
    "for n, c in enumerate(w):\n",
    "    xticks.append(sum(w[:n]) + w[n]/2)\n"
   ]
  },
  {
   "cell_type": "code",
   "execution_count": 290,
   "id": "f209c31a",
   "metadata": {},
   "outputs": [
    {
     "data": {
      "text/plain": [
       "<matplotlib.lines.Line2D at 0x7fc03b655810>"
      ]
     },
     "execution_count": 290,
     "metadata": {},
     "output_type": "execute_result"
    },
    {
     "data": {
      "image/png": "[encoded data removed]",
      "text/plain": [
       "<Figure size 640x480 with 1 Axes>"
      ]
     },
     "metadata": {},
     "output_type": "display_data"
    }
   ],
   "source": [
    "fig, ax = plt.subplots()\n",
    "\n",
    "ax.bar(xticks[:len(bi)], height = bl, width = bw,\n",
    "           alpha = 1, color='lightgray', linewidth=0)\n",
    "ax.bar(xticks, height = cl, width = cw,\n",
    "           alpha = 0.8, color=casecolor, linewidth=0)\n",
    "ax.bar(xticks[:len(bi)], height = bh, width = bw,\n",
    "           alpha = 1, color='lightgray', linewidth=0)\n",
    "ax.bar(xticks, height = ch, width = cw,\n",
    "           alpha = 0.8, color=casecolor, linewidth=0)\n",
    "#ax.xticks(xticks,ci)\n",
    "#ax.xticks(xticks,bi,minor=True)\n",
    "#ax.xaxis.set_minor_locator(FixedLocator(xticks))\n",
    "ax.xaxis.set_minor_formatter('{x:.0f}')\n",
    "ax.tick_params(which='major', top=False, labeltop=True, bottom=False, labelbottom=False)\n",
    "ax.tick_params(which='minor', top=False, labeltop=False, bottom=False, labelbottom=True)\n",
    "ax.axis('scaled')\n",
    "fig.gca().set_frame_on(False)\n",
    "ax.axhline(y=0, color='black', linewidth=1)\n"
   ]
  },
  {
   "cell_type": "code",
   "execution_count": null,
   "id": "17e6c28f",
   "metadata": {},
   "outputs": [],
   "source": [
    "#add bin ID to bottom, only show first one (blank out subsequent)"
   ]
  }
 ],
 "metadata": {
  "kernelspec": {
   "display_name": "Python 3 (ipykernel)",
   "language": "python",
   "name": "python3"
  },
  "language_info": {
   "codemirror_mode": {
    "name": "ipython",
    "version": 3
   },
   "file_extension": ".py",
   "mimetype": "text/x-python",
   "name": "python",
   "nbconvert_exporter": "python",
   "pygments_lexer": "ipython3",
   "version": "3.10.9"
  }
 },
 "nbformat": 4,
 "nbformat_minor": 5
}
