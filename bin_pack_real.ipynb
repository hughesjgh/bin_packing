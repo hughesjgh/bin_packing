{
 "cells": [
  {
   "cell_type": "code",
   "execution_count": null,
   "id": "ae50a97d",
   "metadata": {},
   "outputs": [],
   "source": [
    "import os\n",
    "import pandas as pd\n",
    "import numpy as np\n",
    "import matplotlib.pyplot as plt\n",
    "import plotly.express as px\n",
    "import plotly.graph_objects as go\n",
    "from plotly.subplots import make_subplots\n",
    "from random import sample \n",
    "from sklearn.cluster import KMeans\n",
    "from collections import Counter\n",
    "from itertools import combinations\n",
    "import itertools\n",
    "import math\n",
    "import re"
   ]
  },
  {
   "cell_type": "code",
   "execution_count": null,
   "id": "46cfb355",
   "metadata": {},
   "outputs": [],
   "source": [
    "# shortcut for selecting these three columns\n",
    "LWH = ['L','W','H']"
   ]
  },
  {
   "cell_type": "code",
   "execution_count": null,
   "id": "85a3ea12",
   "metadata": {},
   "outputs": [],
   "source": [
    "def kmeans_loop(data,\n",
    "                min_clusters,\n",
    "                max_clusters,\n",
    "                step):\n",
    "    \n",
    "    kmeans_kwargs = {\n",
    "        \"init\": \"random\",\n",
    "        \"n_init\": 10,\n",
    "        \"random_state\": 1,\n",
    "    }\n",
    "    \n",
    "    #create list to hold SSE values for each k\n",
    "    labels = []\n",
    "    i = 0\n",
    "    for k in range(min_clusters, max_clusters+1, step):\n",
    "        kmeans = KMeans(n_clusters = k, **kmeans_kwargs)\n",
    "        kmeans.fit(data)\n",
    "        labels.append(kmeans.labels_)\n",
    "        i += 1\n",
    "\n",
    "    return labels"
   ]
  },
  {
   "cell_type": "code",
   "execution_count": null,
   "id": "baa20d28",
   "metadata": {},
   "outputs": [],
   "source": [
    "# read data file\n",
    "os.chdir('C:\\\\Users\\\\85167\\\\OneDrive - Columbia Sportswear Company\\\\Desktop')\n",
    "data_file = 'RVG Case Data.xlsx'\n",
    "data_OG = pd.read_excel(data_file)\n",
    "print('total records:', len(data_OG))"
   ]
  },
  {
   "cell_type": "code",
   "execution_count": null,
   "id": "8101929f",
   "metadata": {},
   "outputs": [],
   "source": [
    "# data file takes a long time to load, so make copy of data with only select columns\n",
    "# (helpful during development if the data gets messed up; avoid reloading)\n",
    "data = data_OG.copy()\n",
    "data = data.loc[:,['Quantity','CaseVolume','CaseLength','CaseWidth','CaseHeight']]\n",
    "data.columns = ['qty', 'V', 'L', 'W', 'H']\n",
    "data.head()"
   ]
  },
  {
   "cell_type": "code",
   "execution_count": null,
   "id": "8904e01b",
   "metadata": {},
   "outputs": [],
   "source": [
    "data_corr = data.corr()\n",
    "data_corr = data_corr.style.background_gradient(cmap='coolwarm', vmin=-1, vmax=1)\n",
    "data_corr"
   ]
  },
  {
   "cell_type": "code",
   "execution_count": null,
   "id": "2c7575c0",
   "metadata": {},
   "outputs": [],
   "source": [
    "len(data[data.V <= 6])/len(data)"
   ]
  },
  {
   "cell_type": "code",
   "execution_count": null,
   "id": "74cfe79f",
   "metadata": {},
   "outputs": [],
   "source": [
    "fig = px.histogram(data, x='V', range_x=[0,6])\n",
    "fig.show()"
   ]
  },
  {
   "cell_type": "code",
   "execution_count": null,
   "id": "fe94c76b",
   "metadata": {},
   "outputs": [],
   "source": [
    "fig = px.histogram(data, x='L', range_x=[0,30])\n",
    "fig.update_traces(xbins=dict( # bins used for histogram\n",
    "        start=0,\n",
    "        end=30,\n",
    "        size=0.5\n",
    "    ))\n",
    "fig.show()"
   ]
  },
  {
   "cell_type": "code",
   "execution_count": null,
   "id": "04dfd16e",
   "metadata": {},
   "outputs": [],
   "source": [
    "fig = px.histogram(data, x='W', range_x=[0,30])\n",
    "fig.update_traces(xbins=dict( # bins used for histogram\n",
    "        start=0,\n",
    "        end=30,\n",
    "        size=0.5\n",
    "    ))\n",
    "fig.show()"
   ]
  },
  {
   "cell_type": "code",
   "execution_count": null,
   "id": "2f181874",
   "metadata": {},
   "outputs": [],
   "source": [
    "fig = px.histogram(data, x='H', range_x=[0,30])\n",
    "fig.update_traces(xbins=dict( # bins used for histogram\n",
    "        start=0,\n",
    "        end=30,\n",
    "        size=0.5\n",
    "    ))\n",
    "fig.show()"
   ]
  },
  {
   "cell_type": "code",
   "execution_count": null,
   "id": "798c33a9",
   "metadata": {},
   "outputs": [],
   "source": [
    "# sample from records\n",
    "def select_sample(data, nrecs):\n",
    "    case_idx = sample(range(len(data)), nrecs)   \n",
    "    sample_data = data.iloc[case_idx][LWH].reset_index(drop=True)\n",
    "    return sample_data\n",
    "\n",
    "# scale data (data in unit cube better for clustering)\n",
    "def scale_down(data, data_max):\n",
    "    data_scaled = data.copy()\n",
    "    for i in range(len(data.columns)):\n",
    "        col_i = data.columns[i]\n",
    "        data_scaled[col_i] = data[col_i] / data_max[i]\n",
    "        \n",
    "    return data_scaled\n",
    "\n",
    "# scale data (may want to scale up cluster centers)\n",
    "def scale_up(data, data_max):\n",
    "    data_scaled = data.copy()\n",
    "    for i in range(len(data.columns)):\n",
    "        col_i = data.columns[i]\n",
    "        data_scaled[col_i] = data[col_i] * data_max[i]\n",
    "        \n",
    "    return data_scaled"
   ]
  },
  {
   "cell_type": "code",
   "execution_count": null,
   "id": "71312c5c",
   "metadata": {},
   "outputs": [],
   "source": [
    "# number of records for sample\n",
    "# could use a percentage of total records\n",
    "# 1000 records good for basic development\n",
    "nrecs = 10000\n",
    "\n",
    "# create sample data\n",
    "data_sample = select_sample(data[LWH], nrecs) \n",
    "# get maxes of sample for scaling data\n",
    "data_max = data[LWH].max(axis=0)\n",
    "# scale data to (0,1] for clustering\n",
    "data_scaled = scale_down(data_sample, data_max)\n",
    "\n",
    "# calculate volume for all sample records\n",
    "data_sample['V'] = data_sample['L'] * data_sample['W'] * data_sample['H'] / 12**3"
   ]
  },
  {
   "cell_type": "code",
   "execution_count": null,
   "id": "85f49da5",
   "metadata": {},
   "outputs": [],
   "source": [
    "# find clusters\n",
    "min_clusters = 1\n",
    "max_clusters = 96\n",
    "step = 10\n",
    "\n",
    "# kmeans can return: labels, centers, squared errors\n",
    "# only labels (think: bin sizes) needed for this application\n",
    "labels = kmeans_loop(data_scaled,\n",
    "                     min_clusters,\n",
    "                     max_clusters,\n",
    "                     step)\n",
    "\n",
    "binsets = pd.DataFrame(labels).T\n",
    "bin_counts = list(range(min_clusters, max_clusters+1, step))\n",
    "binsets.columns = ['set'+str(b).rjust(2, '0') for b in bin_counts]"
   ]
  },
  {
   "cell_type": "code",
   "execution_count": null,
   "id": "04b587e0",
   "metadata": {},
   "outputs": [],
   "source": [
    "# assign binID for each set of bins to each record\n",
    "data_all = pd.merge(data_sample, binsets.astype(str), left_index=True, right_index=True)\n",
    "data_all.head()"
   ]
  },
  {
   "cell_type": "code",
   "execution_count": null,
   "id": "21b98b9c",
   "metadata": {},
   "outputs": [],
   "source": [
    "bin_cols = list(binsets.columns)\n",
    "Vcols = ['V'+b for b in bin_cols]\n",
    "bins = []\n",
    "for b in bin_cols:\n",
    "    bins_ = data_all.groupby(b)[LWH].max()\n",
    "    bins_['V'] = bins_['L'] * bins_['W'] * bins_['H'] / 12**3\n",
    "    bins.append(bins_)\n",
    "    \n",
    "# merge bin data with sample data\n",
    "for i in range(len(bins)):\n",
    "    data_all = data_all.merge(bins[i]['V'], on=bin_cols[i], suffixes=('',bin_cols[i]))\n",
    "    \n",
    "data_all.head()"
   ]
  },
  {
   "cell_type": "code",
   "execution_count": null,
   "id": "331d270f",
   "metadata": {},
   "outputs": [],
   "source": [
    "utilization = 1/data_all[Vcols].div(data_all.V, axis=0)\n",
    "utilization.columns = utilization.columns.str.replace(\"Vset\", \"util\", regex=True)\n",
    "\n",
    "util_melt = pd.melt(utilization, var_name='u', value_name='utilization')\n",
    "util_melt['bins'] = util_melt.u.str[-2:].astype(int)\n",
    "\n",
    "# calculate quartiles for each bin set\n",
    "utilization.quantile(q=[0.10, 0.25, 0.5, 0.75, 0.90], axis=0, numeric_only=True)\n",
    "\n",
    "data_all = pd.merge(data_all, utilization, left_index=True, right_index=True)"
   ]
  },
  {
   "cell_type": "code",
   "execution_count": null,
   "id": "e2f27021",
   "metadata": {},
   "outputs": [],
   "source": [
    "set21 = data_all.groupby('set21')['V'].count().sort_values(ascending=False)\n",
    "set21.name = 'cases'\n",
    "set21 = pd.merge(set21, bins[2], left_index=True, right_index=True)\n",
    "\n",
    "fig = px.bar(set21,\n",
    "             x='V', y='cases',\n",
    "             color_discrete_sequence=['blue'])\n",
    "\n",
    "fig.show()"
   ]
  },
  {
   "cell_type": "code",
   "execution_count": null,
   "id": "4cefc408",
   "metadata": {},
   "outputs": [],
   "source": [
    "fig = px.scatter(data_all.sort_values(by='V'), \n",
    "                 x='H', y='set91', \n",
    "                 color_discrete_sequence=['blue'])\n",
    "\n",
    "fig.show()"
   ]
  },
  {
   "cell_type": "code",
   "execution_count": null,
   "id": "284f7a17",
   "metadata": {},
   "outputs": [],
   "source": [
    "fig = px.violin(util_melt, x='bins', y=\"utilization\", box=True)\n",
    "fig.update_yaxes(tickformat=\".0%\")\n",
    "fig.add_hline(y=0.8, line_width=3, line_dash=\"dash\", line_color=\"green\")\n",
    "fig.show()"
   ]
  },
  {
   "cell_type": "code",
   "execution_count": null,
   "id": "e1e7afa2",
   "metadata": {},
   "outputs": [],
   "source": [
    "# calculate total utilization\n",
    "util = 1 / (data_all[Vcols].sum() / sum(data_all.V))\n",
    "util_summary = pd.DataFrame({'binIDs':util.index, 'util':util.values})\n",
    "util_summary['bins'] = util_summary.binIDs.str[-2:].astype(int)\n",
    "util_summary['util_delta'] = util_summary.util.diff()\n",
    "util_summary['bins_delta'] = util_summary.bins.diff()\n",
    "util_summary['util_improvement'] = util_summary.util_delta / util_summary.bins_delta"
   ]
  },
  {
   "cell_type": "code",
   "execution_count": null,
   "id": "ad65e666",
   "metadata": {},
   "outputs": [],
   "source": [
    "fig = px.scatter(util_summary, \n",
    "                 x='bins', y='util', \n",
    "                 range_y=[0,1], \n",
    "                 color_discrete_sequence=['blue'])\n",
    "fig.update_traces(marker={'size':10,\n",
    "                          'color':'blue',\n",
    "                          'symbol':'square'})\n",
    "\n",
    "fig.update_yaxes(tickformat=\".0%\")\n",
    "fig.add_hline(y=0.8, line_width=3, line_dash=\"dash\", line_color=\"green\")\n",
    "\n",
    "fig.show()"
   ]
  },
  {
   "cell_type": "code",
   "execution_count": null,
   "id": "79c500b6",
   "metadata": {},
   "outputs": [],
   "source": [
    "fig = px.scatter_3d(data_all, x='L', y='W', z='H', \n",
    "                    color='set11',\n",
    "                    color_discrete_sequence=px.colors.qualitative.T10,\n",
    "                    opacity = 0.25)\n",
    "\n",
    "#fig.add_trace(\n",
    "#    go.Scatter3d(\n",
    "#        x = centers['L'],\n",
    "#        y = centers['W'],\n",
    "#        z = centers['H'],\n",
    "#        mode = 'markers',\n",
    "#        marker_symbol = 'cross',\n",
    "#        marker_color = 'gray',\n",
    "#        marker_size = 30)\n",
    "#)\n",
    "\n",
    "                    \n",
    "fig.show()"
   ]
  }
 ],
 "metadata": {
  "kernelspec": {
   "display_name": "Python 3 (ipykernel)",
   "language": "python",
   "name": "python3"
  },
  "language_info": {
   "codemirror_mode": {
    "name": "ipython",
    "version": 3
   },
   "file_extension": ".py",
   "mimetype": "text/x-python",
   "name": "python",
   "nbconvert_exporter": "python",
   "pygments_lexer": "ipython3",
   "version": "3.11.5"
  }
 },
 "nbformat": 4,
 "nbformat_minor": 5
}
